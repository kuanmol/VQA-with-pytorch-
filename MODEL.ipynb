{
 "cells": [
  {
   "metadata": {},
   "cell_type": "markdown",
   "source": "## Preprocessing of Question dataset",
   "id": "1fe98772616e294c"
  },
  {
   "metadata": {
    "ExecuteTime": {
     "end_time": "2025-05-16T14:06:18.927921Z",
     "start_time": "2025-05-16T14:06:04.996396Z"
    }
   },
   "cell_type": "code",
   "source": [
    "'''PREPROCESSING TRAINING DATASET OF QUESTIONS'''\n",
    "\n",
    "import nltk\n",
    "import json\n",
    "import pickle\n",
    "from collections import Counter\n",
    "\n",
    "# Download tokenizer model once\n",
    "nltk.download('punkt')\n",
    "\n",
    "# --- Load training questions ---\n",
    "with open(r'D:\\Projects\\asfdgfhjghk\\dataset\\v2_Questions_Train_mscoco\\v2_OpenEnded_mscoco_train2014_questions.json', 'r') as f:\n",
    "    questions = json.load(f)['questions']\n",
    "\n",
    "# --- Tokenize training questions ---\n",
    "tokenized_questions = []\n",
    "for q in questions:\n",
    "    tokens = [word.lower() for word in nltk.word_tokenize(q['question'])]\n",
    "    tokenized_questions.append(tokens)\n",
    "\n",
    "# --- Build vocabulary (top 10,000 words + special tokens) ---\n",
    "word_counts = Counter(word for tokens in tokenized_questions for word in tokens)\n",
    "most_common = word_counts.most_common(10000)\n",
    "\n",
    "vocab = {word: idx + 1 for idx, (word, _) in enumerate(most_common)}  # Start idx from 1\n",
    "vocab['<PAD>'] = 0\n",
    "vocab['<UNK>'] = len(vocab)  # Unknown token at the end\n",
    "\n",
    "# --- Convert training tokens to sequences and pad ---\n",
    "max_len = 14\n",
    "question_sequences = []\n",
    "for tokens in tokenized_questions:\n",
    "    seq = [vocab.get(token, vocab['<UNK>']) for token in tokens[:max_len]]\n",
    "    seq += [vocab['<PAD>']] * (max_len - len(seq))\n",
    "    question_sequences.append(seq)\n",
    "\n",
    "# --- Save vocabulary and training sequences ---\n",
    "with open('vocab.pkl', 'wb') as f:\n",
    "    pickle.dump(vocab, f)\n",
    "\n",
    "with open('train_question_sequences.pkl', 'wb') as f:\n",
    "    pickle.dump(question_sequences, f)\n",
    "\n",
    "print(f\"Training data processed: {len(question_sequences)} questions\")\n",
    "print(f\"Vocabulary size (including special tokens): {len(vocab)}\")\n"
   ],
   "id": "916944c532f7e71e",
   "outputs": [
    {
     "name": "stderr",
     "output_type": "stream",
     "text": [
      "[nltk_data] Downloading package punkt to\n",
      "[nltk_data]     C:\\Users\\anmol\\AppData\\Roaming\\nltk_data...\n",
      "[nltk_data]   Package punkt is already up-to-date!\n"
     ]
    },
    {
     "name": "stdout",
     "output_type": "stream",
     "text": [
      "Training data processed: 443757 questions\n",
      "Vocabulary size (including special tokens): 10002\n"
     ]
    }
   ],
   "execution_count": 2
  },
  {
   "metadata": {
    "ExecuteTime": {
     "end_time": "2025-05-16T14:06:24.696532Z",
     "start_time": "2025-05-16T14:06:18.931960Z"
    }
   },
   "cell_type": "code",
   "source": [
    "'''PREPROCESSING VALIDATION DATASET OF QUESTIONS'''\n",
    "import nltk\n",
    "import json\n",
    "import pickle\n",
    "\n",
    "nltk.download('punkt')\n",
    "\n",
    "# --- Load validation questions ---\n",
    "with open(r'D:\\Projects\\asfdgfhjghk\\dataset\\v2_Questions_Val_mscoco\\v2_OpenEnded_mscoco_val2014_questions.json', 'r') as f:\n",
    "    val_qs = json.load(f)['questions']\n",
    "\n",
    "# --- Tokenize validation questions ---\n",
    "val_tokens = [[tok.lower() for tok in nltk.word_tokenize(q['question'])] for q in val_qs]\n",
    "\n",
    "# --- Load vocabulary saved from training ---\n",
    "with open('vocab.pkl', 'rb') as f:\n",
    "    vocab = pickle.load(f)\n",
    "\n",
    "# --- Convert validation tokens to sequences and pad ---\n",
    "max_len = 14\n",
    "val_sequences = []\n",
    "for tokens in val_tokens:\n",
    "    seq = [vocab.get(token, vocab['<UNK>']) for token in tokens[:max_len]]\n",
    "    seq += [vocab['<PAD>']] * (max_len - len(seq))\n",
    "    val_sequences.append(seq)\n",
    "\n",
    "# --- Save validation sequences ---\n",
    "with open('val_question_sequences.pkl', 'wb') as f:\n",
    "    pickle.dump(val_sequences, f)\n",
    "\n",
    "print(f\"Validation data processed: {len(val_sequences)} questions\")\n"
   ],
   "id": "8b39fa36aaf263ac",
   "outputs": [
    {
     "name": "stderr",
     "output_type": "stream",
     "text": [
      "[nltk_data] Downloading package punkt to\n",
      "[nltk_data]     C:\\Users\\anmol\\AppData\\Roaming\\nltk_data...\n",
      "[nltk_data]   Package punkt is already up-to-date!\n"
     ]
    },
    {
     "name": "stdout",
     "output_type": "stream",
     "text": [
      "Validation data processed: 214354 questions\n"
     ]
    }
   ],
   "execution_count": 3
  },
  {
   "metadata": {
    "ExecuteTime": {
     "end_time": "2025-05-16T13:50:19.418362Z",
     "start_time": "2025-05-16T13:50:19.325776Z"
    }
   },
   "cell_type": "code",
   "source": [
    "# Inspect Tokenized Questions\n",
    "import pickle\n",
    "\n",
    "# Load tokenized questions\n",
    "with open('val_question_sequences.pkl', 'rb') as f:\n",
    "    tokenized_questions = pickle.load(f)\n",
    "\n",
    "# Print first 5 questions\n",
    "print(\"First 5 tokenized questions:\")\n",
    "for i, tokens in enumerate(tokenized_questions[:5], 1):\n",
    "    print(f\"Question: {tokens}\")"
   ],
   "id": "31aaf1463bda939f",
   "outputs": [
    {
     "name": "stdout",
     "output_type": "stream",
     "text": [
      "First 5 tokenized questions:\n",
      "Question: [24, 3, 48, 100, 1, 0, 0, 0, 0, 0, 0, 0, 0, 0]\n",
      "Question: [4, 5, 2, 17, 7, 2, 74, 33, 1, 0, 0, 0, 0, 0]\n",
      "Question: [4, 3, 48, 8, 96, 9, 1, 0, 0, 0, 0, 0, 0, 0]\n",
      "Question: [4, 1104, 3297, 2, 18, 1, 0, 0, 0, 0, 0, 0, 0, 0]\n",
      "Question: [3, 6, 10, 10001, 1196, 1, 0, 0, 0, 0, 0, 0, 0, 0]\n"
     ]
    }
   ],
   "execution_count": 1
  },
  {
   "metadata": {},
   "cell_type": "markdown",
   "source": "## Preprocessing of annotation dataset",
   "id": "722f535c7ec6bc47"
  },
  {
   "metadata": {
    "ExecuteTime": {
     "end_time": "2025-05-16T14:06:30.695398Z",
     "start_time": "2025-05-16T14:06:24.723022Z"
    }
   },
   "cell_type": "code",
   "source": [
    "'''PREPROCESSING TRAINING DATASET OF ANNOTATIONS'''\n",
    "import json\n",
    "import pickle\n",
    "from collections import Counter\n",
    "\n",
    "# Load answers\n",
    "with open(r'D:\\Projects\\asfdgfhjghk\\dataset\\v2_Annotations_Train_mscoco\\v2_mscoco_train2014_annotations.json',\n",
    "          'r') as f:\n",
    "    annotations = json.load(f)['annotations']\n",
    "\n",
    "# Get most common answer per question\n",
    "answers = []\n",
    "for ann in annotations:\n",
    "    ans_counts = Counter(a['answer'].lower() for a in ann['answers'])\n",
    "    most_common = ans_counts.most_common(1)[0][0]  # Pick the top answer\n",
    "    answers.append(most_common)\n",
    "\n",
    "# Build answer vocabulary (top 3,000)\n",
    "answer_vocab = {ans: idx for idx, (ans, _) in enumerate(Counter(answers).most_common(3000))}\n",
    "\n",
    "# Save answer vocabulary\n",
    "with open('answer_vocab.pkl', 'wb') as f:\n",
    "    pickle.dump(answer_vocab, f)\n",
    "\n",
    "print(f\"Created answer vocabulary with {len(answer_vocab)} answers\")"
   ],
   "id": "37bdff5ccc01793e",
   "outputs": [
    {
     "name": "stdout",
     "output_type": "stream",
     "text": [
      "Created answer vocabulary with 3000 answers\n"
     ]
    }
   ],
   "execution_count": 4
  },
  {
   "metadata": {
    "ExecuteTime": {
     "end_time": "2025-05-16T14:06:33.196393Z",
     "start_time": "2025-05-16T14:06:30.717436Z"
    }
   },
   "cell_type": "code",
   "source": [
    "'''PREPROCESSING VALIDATION DATASET OF ANNOTATIONS'''\n",
    "\n",
    "import json\n",
    "import pickle\n",
    "from collections import Counter\n",
    "\n",
    "# Load validation annotations\n",
    "with open(r'D:\\Projects\\asfdgfhjghk\\dataset\\v2_Annotations_Val_mscoco\\v2_mscoco_val2014_annotations.json', 'r') as f:\n",
    "    val_annotations = json.load(f)['annotations']\n",
    "\n",
    "# Load answer vocabulary built from training\n",
    "with open('answer_vocab.pkl', 'rb') as f:\n",
    "    answer_vocab = pickle.load(f)\n",
    "\n",
    "val_answers = []\n",
    "for ann in val_annotations:\n",
    "    ans_counts = Counter(a['answer'].lower() for a in ann['answers'])\n",
    "    most_common = ans_counts.most_common(1)[0][0]\n",
    "    val_answers.append(most_common)\n",
    "\n",
    "# Convert validation answers to indices (use -1 or some value for unknown answers)\n",
    "val_answer_indices = [answer_vocab.get(ans, -1) for ans in val_answers]\n",
    "\n",
    "# Save validation answer indices\n",
    "with open('val_answer_indices.pkl', 'wb') as f:\n",
    "    pickle.dump(val_answer_indices, f)\n",
    "\n",
    "print(f\"Processed {len(val_answer_indices)} validation answers\")"
   ],
   "id": "36a46023826f5530",
   "outputs": [
    {
     "name": "stdout",
     "output_type": "stream",
     "text": [
      "Processed 214354 validation answers\n"
     ]
    }
   ],
   "execution_count": 5
  },
  {
   "metadata": {},
   "cell_type": "markdown",
   "source": "## Preprocessing of image dataset",
   "id": "797f23a9e596bf57"
  },
  {
   "metadata": {},
   "cell_type": "code",
   "source": [
    "'''PREPROCESSING TRAINING DATASET OF IMAGES'''\n",
    "\n",
    "import os\n",
    "import torch\n",
    "import torchvision.models as models\n",
    "import torchvision.transforms as transforms\n",
    "from PIL import Image\n",
    "import pickle\n",
    "import json\n",
    "from tqdm import tqdm\n",
    "import time\n",
    "\n",
    "# Set device\n",
    "device = torch.device(\"cuda\" if torch.cuda.is_available() else \"cpu\")\n",
    "print(f\"Using device: {device}\")\n",
    "\n",
    "# Load question data\n",
    "with open(r'D:\\Projects\\asfdgfhjghk\\dataset\\v2_Questions_Train_mscoco\\v2_OpenEnded_mscoco_train2014_questions.json',\n",
    "          'r') as f:\n",
    "    questions = json.load(f)['questions']\n",
    "\n",
    "# Get image IDs\n",
    "image_ids = {q['image_id']: q['question_id'] for q in questions}\n",
    "\n",
    "# Define transformations\n",
    "transform = transforms.Compose([\n",
    "    transforms.Resize((224, 224)),\n",
    "    transforms.ToTensor(),\n",
    "    transforms.Normalize(mean=[0.485, 0.456, 0.406], std=[0.229, 0.224, 0.225])\n",
    "])\n",
    "\n",
    "# Load ResNet model\n",
    "resnet = models.resnet50(pretrained=True).to(device)\n",
    "resnet.eval()\n",
    "resnet = torch.nn.Sequential(*list(resnet.children())[:-1])\n",
    "\n",
    "# Image directory\n",
    "image_dir = r'D:\\Projects\\asfdgfhjghk\\dataset\\train2014\\train2014'\n",
    "image_features = {}\n",
    "batch_size = 64\n",
    "\n",
    "# Verify directory\n",
    "if not os.path.exists(image_dir):\n",
    "    print(f\"Error: Directory not found: {image_dir}\")\n",
    "    exit(1)\n",
    "else:\n",
    "    print(f\"Directory found: {image_dir}\")\n",
    "    print(f\"Number of files: {len(os.listdir(image_dir))}\")\n",
    "\n",
    "# Process images in batches\n",
    "image_id_list = list(image_ids.keys())\n",
    "start_time = time.time()\n",
    "batch_images = []\n",
    "batch_question_ids = []\n",
    "\n",
    "for i, image_id in enumerate(tqdm(image_id_list, desc=\"Processing images\")):\n",
    "    image_filename = f\"COCO_train2014_{str(image_id).zfill(12)}.jpg\"\n",
    "    image_path = os.path.join(image_dir, image_filename)\n",
    "\n",
    "    if not os.path.exists(image_path):\n",
    "        print(f\"Image not found: {image_path}\")\n",
    "        continue\n",
    "\n",
    "    try:\n",
    "        image = Image.open(image_path).convert('RGB')\n",
    "        image = transform(image)\n",
    "        batch_images.append(image)\n",
    "        batch_question_ids.append(image_ids[image_id])\n",
    "    except Exception as e:\n",
    "        print(f\"Error processing image {image_path}: {e}\")\n",
    "        continue\n",
    "\n",
    "    if len(batch_images) == batch_size or i == len(image_id_list) - 1:\n",
    "        if batch_images:\n",
    "            try:\n",
    "                images = torch.stack(batch_images).to(device)\n",
    "                with torch.no_grad():\n",
    "                    features = resnet(images)\n",
    "                    features = features.squeeze(-1).squeeze(-1).cpu().numpy()\n",
    "                for question_id, feature in zip(batch_question_ids, features):\n",
    "                    image_features[question_id] = feature\n",
    "                del images, features\n",
    "                torch.cuda.empty_cache()\n",
    "            except RuntimeError as e:\n",
    "                print(f\"GPU error: {e}\")\n",
    "        batch_images = []\n",
    "        batch_question_ids = []\n",
    "\n",
    "# Save features\n",
    "with open('image_features.pkl', 'wb') as f:\n",
    "    pickle.dump(image_features, f)\n",
    "\n",
    "end_time = time.time()\n",
    "print(f\"Extracted features for {len(image_features)} images\")\n",
    "print(f\"Total time: {end_time - start_time:.2f} seconds\")"
   ],
   "id": "27b4084131c99609",
   "outputs": [],
   "execution_count": null
  },
  {
   "metadata": {
    "ExecuteTime": {
     "end_time": "2025-05-16T14:24:30.079698Z",
     "start_time": "2025-05-16T14:12:09.612502Z"
    }
   },
   "cell_type": "code",
   "source": [
    "'''PREPROCESSING VALIDATION DATASET OF IMAGES'''\n",
    "\n",
    "import os\n",
    "import torch\n",
    "import torchvision.models as models\n",
    "import torchvision.transforms as transforms\n",
    "from PIL import Image\n",
    "import pickle\n",
    "import json\n",
    "from tqdm import tqdm\n",
    "import time\n",
    "\n",
    "# Set device\n",
    "device = torch.device(\"cuda\" if torch.cuda.is_available() else \"cpu\")\n",
    "print(f\"Using device: {device}\")\n",
    "\n",
    "# Load question data\n",
    "with open(r'D:\\Projects\\asfdgfhjghk\\dataset\\v2_Questions_Val_mscoco\\v2_OpenEnded_mscoco_val2014_questions.json',\n",
    "          'r') as f:\n",
    "    questions = json.load(f)['questions']\n",
    "\n",
    "# Get image IDs\n",
    "image_ids = {q['image_id']: q['question_id'] for q in questions}\n",
    "\n",
    "# Define transformations\n",
    "transform = transforms.Compose([\n",
    "    transforms.Resize((224, 224)),\n",
    "    transforms.ToTensor(),\n",
    "    transforms.Normalize(mean=[0.485, 0.456, 0.406], std=[0.229, 0.224, 0.225])\n",
    "])\n",
    "\n",
    "# Load ResNet model\n",
    "resnet = models.resnet50(pretrained=True).to(device)\n",
    "resnet.eval()\n",
    "resnet = torch.nn.Sequential(*list(resnet.children())[:-1])\n",
    "\n",
    "# Image directory\n",
    "image_dir = r'D:\\Projects\\asfdgfhjghk\\dataset\\val2014\\val2014'\n",
    "image_features = {}\n",
    "batch_size = 64\n",
    "\n",
    "# Verify directory\n",
    "if not os.path.exists(image_dir):\n",
    "    print(f\"Error: Directory not found: {image_dir}\")\n",
    "    exit(1)\n",
    "else:\n",
    "    print(f\"Directory found: {image_dir}\")\n",
    "    print(f\"Number of files: {len(os.listdir(image_dir))}\")\n",
    "\n",
    "# Process images in batches\n",
    "image_id_list = list(image_ids.keys())\n",
    "start_time = time.time()\n",
    "batch_images = []\n",
    "batch_question_ids = []\n",
    "\n",
    "for i, image_id in enumerate(tqdm(image_id_list, desc=\"Processing images\")):\n",
    "    image_filename = f\"COCO_val2014_{str(image_id).zfill(12)}.jpg\"\n",
    "    image_path = os.path.join(image_dir, image_filename)\n",
    "\n",
    "    if not os.path.exists(image_path):\n",
    "        print(f\"Image not found: {image_path}\")\n",
    "        continue\n",
    "\n",
    "    try:\n",
    "        image = Image.open(image_path).convert('RGB')\n",
    "        image = transform(image)\n",
    "        batch_images.append(image)\n",
    "        batch_question_ids.append(image_ids[image_id])\n",
    "    except Exception as e:\n",
    "        print(f\"Error processing image {image_path}: {e}\")\n",
    "        continue\n",
    "\n",
    "    if len(batch_images) == batch_size or i == len(image_id_list) - 1:\n",
    "        if batch_images:\n",
    "            try:\n",
    "                images = torch.stack(batch_images).to(device)\n",
    "                with torch.no_grad():\n",
    "                    features = resnet(images)\n",
    "                    features = features.squeeze(-1).squeeze(-1).cpu().numpy()\n",
    "                for question_id, feature in zip(batch_question_ids, features):\n",
    "                    image_features[question_id] = feature\n",
    "                del images, features\n",
    "                torch.cuda.empty_cache()\n",
    "            except RuntimeError as e:\n",
    "                print(f\"GPU error: {e}\")\n",
    "        batch_images = []\n",
    "        batch_question_ids = []\n",
    "\n",
    "# Save features\n",
    "with open('image_features.pkl', 'wb') as f:\n",
    "    pickle.dump(image_features, f)\n",
    "\n",
    "end_time = time.time()\n",
    "print(f\"Extracted features for {len(image_features)} images\")\n",
    "print(f\"Total time: {end_time - start_time:.2f} seconds\")"
   ],
   "id": "e3afe333d42b97b2",
   "outputs": [
    {
     "name": "stdout",
     "output_type": "stream",
     "text": [
      "Using device: cuda\n"
     ]
    },
    {
     "name": "stderr",
     "output_type": "stream",
     "text": [
      "D:\\Projects\\asfdgfhjghk\\.venv\\Lib\\site-packages\\torchvision\\models\\_utils.py:208: UserWarning: The parameter 'pretrained' is deprecated since 0.13 and may be removed in the future, please use 'weights' instead.\n",
      "  warnings.warn(\n",
      "D:\\Projects\\asfdgfhjghk\\.venv\\Lib\\site-packages\\torchvision\\models\\_utils.py:223: UserWarning: Arguments other than a weight enum or `None` for 'weights' are deprecated since 0.13 and may be removed in the future. The current behavior is equivalent to passing `weights=ResNet50_Weights.IMAGENET1K_V1`. You can also use `weights=ResNet50_Weights.DEFAULT` to get the most up-to-date weights.\n",
      "  warnings.warn(msg)\n"
     ]
    },
    {
     "name": "stdout",
     "output_type": "stream",
     "text": [
      "Directory found: D:\\Projects\\asfdgfhjghk\\dataset\\val2014\\val2014\n",
      "Number of files: 40504\n"
     ]
    },
    {
     "name": "stderr",
     "output_type": "stream",
     "text": [
      "Processing images: 100%|██████████| 40504/40504 [12:10<00:00, 55.48it/s]\n"
     ]
    },
    {
     "name": "stdout",
     "output_type": "stream",
     "text": [
      "Extracted features for 40504 images\n",
      "Total time: 730.49 seconds\n"
     ]
    }
   ],
   "execution_count": 6
  },
  {
   "metadata": {
    "ExecuteTime": {
     "end_time": "2025-05-16T14:43:56.439418Z",
     "start_time": "2025-05-16T14:43:44.344873Z"
    }
   },
   "cell_type": "code",
   "source": [
    "import torch\n",
    "from torch.utils.data import Dataset\n",
    "import pickle\n",
    "import json\n",
    "\n",
    "class VQADataset(Dataset):\n",
    "    def __init__(self, image_features_file, train_question_sequences, answer_vocab_file, annotations_file):\n",
    "        # Load image features dict: {question_id: feature}\n",
    "        with open(image_features_file, 'rb') as f:\n",
    "            self.image_features = pickle.load(f)\n",
    "\n",
    "        # Load question sequences list aligned by question order\n",
    "        with open(train_question_sequences, 'rb') as f:\n",
    "            self.train_question_sequences = pickle.load(f)\n",
    "\n",
    "        # Load answer vocab dict: {answer: idx}\n",
    "        with open(answer_vocab_file, 'rb') as f:\n",
    "            self.answer_vocab = pickle.load(f)\n",
    "\n",
    "        # Load annotations list\n",
    "        with open(annotations_file, 'r') as f:\n",
    "            self.annotations = json.load(f)['annotations']\n",
    "\n",
    "        # Build a mapping from question_id to index in question_sequences and annotations\n",
    "        # because question_sequences is a list aligned with training questions\n",
    "        self.qid_to_index = {}\n",
    "        for idx, ann in enumerate(self.annotations):\n",
    "            qid = ann['question_id']\n",
    "            if qid in self.image_features:  # Only keep questions with image features\n",
    "                self.qid_to_index[qid] = idx\n",
    "\n",
    "        # Now create a list of valid question IDs that have all info\n",
    "        self.question_ids = list(self.qid_to_index.keys())\n",
    "\n",
    "    def __len__(self):\n",
    "        return len(self.question_ids)\n",
    "\n",
    "    def __getitem__(self, idx):\n",
    "        qid = self.question_ids[idx]\n",
    "        ann_idx = self.qid_to_index[qid]\n",
    "\n",
    "        image_feature = torch.tensor(self.image_features[qid], dtype=torch.float32)\n",
    "\n",
    "        # question_sequences is indexed by the order of training questions, use ann_idx\n",
    "        question_seq = torch.tensor(self.question_sequences[ann_idx], dtype=torch.long)\n",
    "\n",
    "        answer_text = self.annotations[ann_idx]['multiple_choice_answer'].lower()\n",
    "        answer_id = self.answer_vocab.get(answer_text, -1)  # -1 for unknown answer\n",
    "\n",
    "        return image_feature, question_seq, answer_id\n",
    "\n",
    "\n",
    "# Example usage\n",
    "if __name__ == \"__main__\":\n",
    "    image_features_file = 'image_features.pkl'\n",
    "    train_question_sequences = 'train_question_sequences.pkl'\n",
    "    answer_vocab_file = 'answer_vocab.pkl'\n",
    "    annotations_file = r'D:\\Projects\\asfdgfhjghk\\dataset\\v2_Annotations_Train_mscoco\\v2_mscoco_train2014_annotations.json'\n",
    "\n",
    "    dataset = VQADataset(image_features_file, train_question_sequences, answer_vocab_file, annotations_file)\n",
    "    print(f\"Dataset size: {len(dataset)}\")\n",
    "\n",
    "    from torch.utils.data import DataLoader\n",
    "    dataloader = DataLoader(dataset, batch_size=64, shuffle=True, pin_memory=True)\n",
    "\n",
    "    for img_feat, q_seq, ans_id in dataloader:\n",
    "        print(f\"Image features shape: {img_feat.shape}\")\n",
    "        print(f\"Question sequences shape: {q_seq.shape}\")\n",
    "        print(f\"Answer IDs shape: {ans_id.shape}\")\n",
    "        break\n"
   ],
   "id": "4dd7a590a28f8801",
   "outputs": [
    {
     "name": "stdout",
     "output_type": "stream",
     "text": [
      "Dataset size: 0\n"
     ]
    },
    {
     "ename": "ValueError",
     "evalue": "num_samples should be a positive integer value, but got num_samples=0",
     "output_type": "error",
     "traceback": [
      "\u001B[31m---------------------------------------------------------------------------\u001B[39m",
      "\u001B[31mValueError\u001B[39m                                Traceback (most recent call last)",
      "\u001B[36mCell\u001B[39m\u001B[36m \u001B[39m\u001B[32mIn[10]\u001B[39m\u001B[32m, line 64\u001B[39m\n\u001B[32m     61\u001B[39m \u001B[38;5;28mprint\u001B[39m(\u001B[33mf\u001B[39m\u001B[33m\"\u001B[39m\u001B[33mDataset size: \u001B[39m\u001B[38;5;132;01m{\u001B[39;00m\u001B[38;5;28mlen\u001B[39m(dataset)\u001B[38;5;132;01m}\u001B[39;00m\u001B[33m\"\u001B[39m)\n\u001B[32m     63\u001B[39m \u001B[38;5;28;01mfrom\u001B[39;00m\u001B[38;5;250m \u001B[39m\u001B[34;01mtorch\u001B[39;00m\u001B[34;01m.\u001B[39;00m\u001B[34;01mutils\u001B[39;00m\u001B[34;01m.\u001B[39;00m\u001B[34;01mdata\u001B[39;00m\u001B[38;5;250m \u001B[39m\u001B[38;5;28;01mimport\u001B[39;00m DataLoader\n\u001B[32m---> \u001B[39m\u001B[32m64\u001B[39m dataloader = \u001B[43mDataLoader\u001B[49m\u001B[43m(\u001B[49m\u001B[43mdataset\u001B[49m\u001B[43m,\u001B[49m\u001B[43m \u001B[49m\u001B[43mbatch_size\u001B[49m\u001B[43m=\u001B[49m\u001B[32;43m64\u001B[39;49m\u001B[43m,\u001B[49m\u001B[43m \u001B[49m\u001B[43mshuffle\u001B[49m\u001B[43m=\u001B[49m\u001B[38;5;28;43;01mTrue\u001B[39;49;00m\u001B[43m,\u001B[49m\u001B[43m \u001B[49m\u001B[43mpin_memory\u001B[49m\u001B[43m=\u001B[49m\u001B[38;5;28;43;01mTrue\u001B[39;49;00m\u001B[43m)\u001B[49m\n\u001B[32m     66\u001B[39m \u001B[38;5;28;01mfor\u001B[39;00m img_feat, q_seq, ans_id \u001B[38;5;129;01min\u001B[39;00m dataloader:\n\u001B[32m     67\u001B[39m     \u001B[38;5;28mprint\u001B[39m(\u001B[33mf\u001B[39m\u001B[33m\"\u001B[39m\u001B[33mImage features shape: \u001B[39m\u001B[38;5;132;01m{\u001B[39;00mimg_feat.shape\u001B[38;5;132;01m}\u001B[39;00m\u001B[33m\"\u001B[39m)\n",
      "\u001B[36mFile \u001B[39m\u001B[32mD:\\Projects\\asfdgfhjghk\\.venv\\Lib\\site-packages\\torch\\utils\\data\\dataloader.py:385\u001B[39m, in \u001B[36mDataLoader.__init__\u001B[39m\u001B[34m(self, dataset, batch_size, shuffle, sampler, batch_sampler, num_workers, collate_fn, pin_memory, drop_last, timeout, worker_init_fn, multiprocessing_context, generator, prefetch_factor, persistent_workers, pin_memory_device, in_order)\u001B[39m\n\u001B[32m    383\u001B[39m \u001B[38;5;28;01melse\u001B[39;00m:  \u001B[38;5;66;03m# map-style\u001B[39;00m\n\u001B[32m    384\u001B[39m     \u001B[38;5;28;01mif\u001B[39;00m shuffle:\n\u001B[32m--> \u001B[39m\u001B[32m385\u001B[39m         sampler = \u001B[43mRandomSampler\u001B[49m\u001B[43m(\u001B[49m\u001B[43mdataset\u001B[49m\u001B[43m,\u001B[49m\u001B[43m \u001B[49m\u001B[43mgenerator\u001B[49m\u001B[43m=\u001B[49m\u001B[43mgenerator\u001B[49m\u001B[43m)\u001B[49m  \u001B[38;5;66;03m# type: ignore[arg-type]\u001B[39;00m\n\u001B[32m    386\u001B[39m     \u001B[38;5;28;01melse\u001B[39;00m:\n\u001B[32m    387\u001B[39m         sampler = SequentialSampler(dataset)  \u001B[38;5;66;03m# type: ignore[arg-type]\u001B[39;00m\n",
      "\u001B[36mFile \u001B[39m\u001B[32mD:\\Projects\\asfdgfhjghk\\.venv\\Lib\\site-packages\\torch\\utils\\data\\sampler.py:156\u001B[39m, in \u001B[36mRandomSampler.__init__\u001B[39m\u001B[34m(self, data_source, replacement, num_samples, generator)\u001B[39m\n\u001B[32m    151\u001B[39m     \u001B[38;5;28;01mraise\u001B[39;00m \u001B[38;5;167;01mTypeError\u001B[39;00m(\n\u001B[32m    152\u001B[39m         \u001B[33mf\u001B[39m\u001B[33m\"\u001B[39m\u001B[33mreplacement should be a boolean value, but got replacement=\u001B[39m\u001B[38;5;132;01m{\u001B[39;00m\u001B[38;5;28mself\u001B[39m.replacement\u001B[38;5;132;01m}\u001B[39;00m\u001B[33m\"\u001B[39m\n\u001B[32m    153\u001B[39m     )\n\u001B[32m    155\u001B[39m \u001B[38;5;28;01mif\u001B[39;00m \u001B[38;5;129;01mnot\u001B[39;00m \u001B[38;5;28misinstance\u001B[39m(\u001B[38;5;28mself\u001B[39m.num_samples, \u001B[38;5;28mint\u001B[39m) \u001B[38;5;129;01mor\u001B[39;00m \u001B[38;5;28mself\u001B[39m.num_samples <= \u001B[32m0\u001B[39m:\n\u001B[32m--> \u001B[39m\u001B[32m156\u001B[39m     \u001B[38;5;28;01mraise\u001B[39;00m \u001B[38;5;167;01mValueError\u001B[39;00m(\n\u001B[32m    157\u001B[39m         \u001B[33mf\u001B[39m\u001B[33m\"\u001B[39m\u001B[33mnum_samples should be a positive integer value, but got num_samples=\u001B[39m\u001B[38;5;132;01m{\u001B[39;00m\u001B[38;5;28mself\u001B[39m.num_samples\u001B[38;5;132;01m}\u001B[39;00m\u001B[33m\"\u001B[39m\n\u001B[32m    158\u001B[39m     )\n",
      "\u001B[31mValueError\u001B[39m: num_samples should be a positive integer value, but got num_samples=0"
     ]
    }
   ],
   "execution_count": 10
  },
  {
   "metadata": {
    "ExecuteTime": {
     "end_time": "2025-05-16T12:21:17.760368Z",
     "start_time": "2025-05-16T12:21:17.752023Z"
    }
   },
   "cell_type": "code",
   "source": [
    "import torch\n",
    "import torch.nn as nn\n",
    "import torch.nn.functional as F\n",
    "\n",
    "class VQAModel(nn.Module):\n",
    "    def __init__(self, vocab_size, embed_dim=300, hidden_dim=512, num_answers=3000, num_layers=2, dropout=0.5):\n",
    "        super().__init__()\n",
    "        # Question embedding + encoding\n",
    "        self.embedding = nn.Embedding(vocab_size, embed_dim, padding_idx=0)\n",
    "        self.question_encoder = nn.LSTM(\n",
    "            input_size=embed_dim,\n",
    "            hidden_size=hidden_dim // 2,\n",
    "            num_layers=num_layers,\n",
    "            batch_first=True,\n",
    "            bidirectional=True,\n",
    "            dropout=dropout if num_layers > 1 else 0.0\n",
    "        )\n",
    "        self.q_proj = nn.Linear(hidden_dim, hidden_dim)\n",
    "\n",
    "        # Image feature projection\n",
    "        self.img_proj = nn.Sequential(\n",
    "            nn.Linear(2048, hidden_dim),\n",
    "            nn.LayerNorm(hidden_dim),\n",
    "            nn.ReLU(),\n",
    "            nn.Dropout(dropout)\n",
    "        )\n",
    "\n",
    "        # Co-attention: question attends to image and image attends to question\n",
    "        self.co_attn_q2i = nn.MultiheadAttention(hidden_dim, num_heads=8, dropout=dropout)\n",
    "        self.co_attn_i2q = nn.MultiheadAttention(hidden_dim, num_heads=8, dropout=dropout)\n",
    "\n",
    "        # Fusion and classification\n",
    "        self.fusion = nn.Sequential(\n",
    "            nn.Linear(hidden_dim * 2, hidden_dim),\n",
    "            nn.ReLU(),\n",
    "            nn.Dropout(dropout),\n",
    "            nn.Linear(hidden_dim, hidden_dim),\n",
    "            nn.ReLU(),\n",
    "            nn.Dropout(dropout)\n",
    "        )\n",
    "        self.classifier = nn.Linear(hidden_dim, num_answers)\n",
    "\n",
    "        # Initialization\n",
    "        self._init_weights()\n",
    "\n",
    "    def _init_weights(self):\n",
    "        for m in self.modules():\n",
    "            if isinstance(m, (nn.Linear, nn.Embedding)):\n",
    "                nn.init.xavier_uniform_(m.weight)\n",
    "            elif isinstance(m, nn.LayerNorm):\n",
    "                nn.init.ones_(m.weight)\n",
    "                nn.init.zeros_(m.bias)\n",
    "            if isinstance(m, nn.Linear) and m.bias is not None:\n",
    "                nn.init.zeros_(m.bias)\n",
    "\n",
    "    def forward(self, img_feats, ques_seqs, ques_mask=None):\n",
    "        # Encode question\n",
    "        embeds = self.embedding(ques_seqs)  # [B, L, E]\n",
    "        q_enc, _ = self.question_encoder(embeds)  # [B, L, H]\n",
    "        q_enc = self.q_proj(q_enc)  # project to hidden_dim\n",
    "\n",
    "        # Project image\n",
    "        img_proj = self.img_proj(img_feats)  # [B, H]\n",
    "        img_proj = img_proj.unsqueeze(1)  # [B, 1, H]\n",
    "\n",
    "        # Prepare for attention (transpose for MHA: [seq_len, B, H])\n",
    "        q_enc_t = q_enc.transpose(0, 1)      # [L, B, H]\n",
    "        img_t    = img_proj.transpose(0, 1)  # [1, B, H]\n",
    "\n",
    "        # Co-attention\n",
    "        # question queries image, then image queries question\n",
    "        img_att, _ = self.co_attn_q2i(query=img_t, key=q_enc_t, value=q_enc_t, key_padding_mask=ques_mask)\n",
    "        q_att, _   = self.co_attn_i2q(query=q_enc_t, key=img_t, value=img_t)\n",
    "\n",
    "        # Pool attended features\n",
    "        img_feat = img_att.squeeze(0)                   # [B, H]\n",
    "        q_feat   = q_att[-1]  if q_att.size(0)>1 else q_att.squeeze(0)  # [B, H]\n",
    "\n",
    "        # Fuse and classify\n",
    "        fused = self.fusion(torch.cat([img_feat, q_feat], dim=1))  # [B, H]\n",
    "        out   = self.classifier(fused)                            # [B, num_answers]\n",
    "        return out\n"
   ],
   "id": "1def7278a03c3849",
   "outputs": [],
   "execution_count": 2
  },
  {
   "metadata": {
    "ExecuteTime": {
     "end_time": "2025-05-16T12:21:17.772316Z",
     "start_time": "2025-05-16T12:21:17.763672Z"
    }
   },
   "cell_type": "code",
   "source": [
    "from torch.distributed import optim\n",
    "\n",
    "\n",
    "def train_model(model, dataloader, num_epochs=150, device='cuda', patience=3):\n",
    "    criterion = nn.CrossEntropyLoss(ignore_index=-1)  # Ignore unknown answers\n",
    "    optimizer = optim.Adam(model.parameters(), lr=0.001)\n",
    "    model.to(device)\n",
    "\n",
    "    best_loss = float('inf')\n",
    "    epochs_without_improvement = 0\n",
    "\n",
    "    for epoch in range(num_epochs):\n",
    "        model.train()\n",
    "        total_loss = 0\n",
    "        correct = 0\n",
    "        total = 0\n",
    "\n",
    "        for images, questions, answers in dataloader:\n",
    "            images, questions, answers = images.to(device), questions.to(device), answers.to(device)\n",
    "            optimizer.zero_grad()\n",
    "            outputs = model(images, questions)\n",
    "            loss = criterion(outputs, answers)\n",
    "            loss.backward()\n",
    "            optimizer.step()\n",
    "\n",
    "            total_loss += loss.item()\n",
    "            _, predicted = torch.max(outputs, 1)\n",
    "            correct += (predicted == answers).sum().item()\n",
    "            total += (answers != -1).sum().item()\n",
    "\n",
    "        avg_loss = total_loss / len(dataloader)\n",
    "        accuracy = correct / total * 100\n",
    "\n",
    "        print(f\"Epoch {epoch + 1}/{num_epochs}, Loss: {avg_loss:.4f}, Accuracy: {accuracy:.2f}%\")\n",
    "\n",
    "        # Early stopping check\n",
    "        if avg_loss < best_loss:\n",
    "            best_loss = avg_loss\n",
    "            epochs_without_improvement = 0\n",
    "            # Optionally save the best model\n",
    "            torch.save(model.state_dict(), 'best_vqa_model.pth')\n",
    "        else:\n",
    "            epochs_without_improvement += 1\n",
    "            if epochs_without_improvement >= patience:\n",
    "                print(f\"Early stopping triggered after {epoch + 1} epochs.\")\n",
    "                break\n"
   ],
   "id": "4c37eea6fc7f0c16",
   "outputs": [],
   "execution_count": 3
  },
  {
   "metadata": {
    "ExecuteTime": {
     "end_time": "2025-05-16T12:58:28.733045Z",
     "start_time": "2025-05-16T12:21:17.783506Z"
    }
   },
   "cell_type": "code",
   "source": [
    "# Main script\n",
    "if __name__ == \"__main__\":\n",
    "    # File paths\n",
    "    image_features_file = 'image_features.pkl'\n",
    "    question_sequences_file = 'question_sequences.pkl'\n",
    "    answer_vocab_file = 'answer_vocab.pkl'\n",
    "    annotations_file = r'D:\\Projects\\asfdgfhjghk\\dataset\\v2_Annotations_Train_mscoco\\v2_mscoco_train2014_annotations.json'\n",
    "\n",
    "    # Load vocab to get vocab_size\n",
    "    with open(question_sequences_file, 'rb') as f:\n",
    "        question_sequences = pickle.load(f)\n",
    "    with open(answer_vocab_file, 'rb') as f:\n",
    "        answer_vocab = pickle.load(f)\n",
    "    vocab_size = max([max(seq) for seq in question_sequences]) + 1  # Max index + 1\n",
    "\n",
    "    # Create dataset and dataloader\n",
    "    dataset = VQADataset(image_features_file, question_sequences_file, answer_vocab_file, annotations_file)\n",
    "    dataloader = DataLoader(dataset, batch_size=64, shuffle=True, pin_memory=True)\n",
    "\n",
    "    # Initialize model\n",
    "    device = torch.device(\"cuda\" if torch.cuda.is_available() else \"cpu\")\n",
    "    model = VQAModel(vocab_size, num_answers=len(answer_vocab))\n",
    "\n",
    "    # Train\n",
    "    train_model(model, dataloader, num_epochs=150, device=device, patience=3)\n",
    "\n",
    "    # Save model\n",
    "    torch.save(model.state_dict(), 'vqa_model.pth')\n",
    "    print(\"Model saved to vqa_model.pth\")"
   ],
   "id": "4144d5285562cc92",
   "outputs": [
    {
     "name": "stdout",
     "output_type": "stream",
     "text": [
      "Epoch 1/150, Loss: 3.5782, Accuracy: 25.16%\n",
      "Epoch 2/150, Loss: 3.1863, Accuracy: 26.92%\n",
      "Epoch 3/150, Loss: 3.0041, Accuracy: 27.97%\n",
      "Epoch 4/150, Loss: 2.8678, Accuracy: 28.43%\n",
      "Epoch 5/150, Loss: 2.7597, Accuracy: 29.57%\n",
      "Epoch 6/150, Loss: 2.6645, Accuracy: 30.16%\n",
      "Epoch 7/150, Loss: 2.5767, Accuracy: 31.61%\n",
      "Epoch 8/150, Loss: 2.4964, Accuracy: 33.22%\n",
      "Epoch 9/150, Loss: 2.4365, Accuracy: 34.29%\n",
      "Epoch 10/150, Loss: 2.3729, Accuracy: 36.00%\n",
      "Epoch 11/150, Loss: 2.3092, Accuracy: 37.24%\n",
      "Epoch 12/150, Loss: 2.2546, Accuracy: 38.55%\n",
      "Epoch 13/150, Loss: 2.1972, Accuracy: 39.70%\n",
      "Epoch 14/150, Loss: 2.1450, Accuracy: 40.90%\n",
      "Epoch 15/150, Loss: 2.1015, Accuracy: 41.71%\n",
      "Epoch 16/150, Loss: 2.0601, Accuracy: 42.74%\n",
      "Epoch 17/150, Loss: 2.0120, Accuracy: 43.72%\n",
      "Epoch 18/150, Loss: 1.9781, Accuracy: 44.45%\n",
      "Epoch 19/150, Loss: 1.9382, Accuracy: 45.44%\n",
      "Epoch 20/150, Loss: 1.9083, Accuracy: 45.92%\n",
      "Epoch 21/150, Loss: 1.8776, Accuracy: 46.80%\n",
      "Epoch 22/150, Loss: 1.8532, Accuracy: 47.15%\n",
      "Epoch 23/150, Loss: 1.8242, Accuracy: 47.68%\n",
      "Epoch 24/150, Loss: 1.7936, Accuracy: 48.27%\n",
      "Epoch 25/150, Loss: 1.7749, Accuracy: 48.78%\n",
      "Epoch 26/150, Loss: 1.7508, Accuracy: 49.44%\n",
      "Epoch 27/150, Loss: 1.7312, Accuracy: 49.69%\n",
      "Epoch 28/150, Loss: 1.7048, Accuracy: 50.21%\n",
      "Epoch 29/150, Loss: 1.6870, Accuracy: 50.74%\n",
      "Epoch 30/150, Loss: 1.6695, Accuracy: 51.22%\n",
      "Epoch 31/150, Loss: 1.6508, Accuracy: 51.32%\n",
      "Epoch 32/150, Loss: 1.6228, Accuracy: 52.00%\n",
      "Epoch 33/150, Loss: 1.6138, Accuracy: 52.39%\n",
      "Epoch 34/150, Loss: 1.6004, Accuracy: 52.55%\n",
      "Epoch 35/150, Loss: 1.5882, Accuracy: 52.79%\n",
      "Epoch 36/150, Loss: 1.5708, Accuracy: 53.31%\n",
      "Epoch 37/150, Loss: 1.5414, Accuracy: 53.61%\n",
      "Epoch 38/150, Loss: 1.5428, Accuracy: 53.93%\n",
      "Epoch 39/150, Loss: 1.5213, Accuracy: 54.33%\n",
      "Epoch 40/150, Loss: 1.5108, Accuracy: 54.48%\n",
      "Epoch 41/150, Loss: 1.4995, Accuracy: 54.81%\n",
      "Epoch 42/150, Loss: 1.4846, Accuracy: 55.02%\n",
      "Epoch 43/150, Loss: 1.4692, Accuracy: 55.39%\n",
      "Epoch 44/150, Loss: 1.4635, Accuracy: 55.72%\n",
      "Epoch 45/150, Loss: 1.4509, Accuracy: 56.03%\n",
      "Epoch 46/150, Loss: 1.4402, Accuracy: 56.06%\n",
      "Epoch 47/150, Loss: 1.4328, Accuracy: 56.24%\n",
      "Epoch 48/150, Loss: 1.4227, Accuracy: 56.36%\n",
      "Epoch 49/150, Loss: 1.4160, Accuracy: 56.61%\n",
      "Epoch 50/150, Loss: 1.3886, Accuracy: 57.14%\n",
      "Epoch 51/150, Loss: 1.3845, Accuracy: 57.40%\n",
      "Epoch 52/150, Loss: 1.3716, Accuracy: 57.65%\n",
      "Epoch 53/150, Loss: 1.3715, Accuracy: 57.72%\n",
      "Epoch 54/150, Loss: 1.3651, Accuracy: 57.73%\n",
      "Epoch 55/150, Loss: 1.3541, Accuracy: 58.03%\n",
      "Epoch 56/150, Loss: 1.3514, Accuracy: 58.02%\n",
      "Epoch 57/150, Loss: 1.3398, Accuracy: 58.09%\n",
      "Epoch 58/150, Loss: 1.3374, Accuracy: 58.44%\n",
      "Epoch 59/150, Loss: 1.3253, Accuracy: 58.57%\n",
      "Epoch 60/150, Loss: 1.3214, Accuracy: 58.89%\n",
      "Epoch 61/150, Loss: 1.3099, Accuracy: 59.13%\n",
      "Epoch 62/150, Loss: 1.3092, Accuracy: 58.96%\n",
      "Epoch 63/150, Loss: 1.2995, Accuracy: 59.38%\n",
      "Epoch 64/150, Loss: 1.2902, Accuracy: 59.52%\n",
      "Epoch 65/150, Loss: 1.2820, Accuracy: 59.73%\n",
      "Epoch 66/150, Loss: 1.2824, Accuracy: 59.66%\n",
      "Epoch 67/150, Loss: 1.2767, Accuracy: 59.91%\n",
      "Epoch 68/150, Loss: 1.2676, Accuracy: 60.06%\n",
      "Epoch 69/150, Loss: 1.2554, Accuracy: 60.25%\n",
      "Epoch 70/150, Loss: 1.2529, Accuracy: 60.52%\n",
      "Epoch 71/150, Loss: 1.2506, Accuracy: 60.58%\n",
      "Epoch 72/150, Loss: 1.2468, Accuracy: 60.64%\n",
      "Epoch 73/150, Loss: 1.2413, Accuracy: 60.49%\n",
      "Epoch 74/150, Loss: 1.2402, Accuracy: 60.85%\n",
      "Epoch 75/150, Loss: 1.2246, Accuracy: 60.90%\n",
      "Epoch 76/150, Loss: 1.2177, Accuracy: 61.31%\n",
      "Epoch 77/150, Loss: 1.2200, Accuracy: 61.30%\n",
      "Epoch 78/150, Loss: 1.2115, Accuracy: 61.39%\n",
      "Epoch 79/150, Loss: 1.2064, Accuracy: 61.45%\n",
      "Epoch 80/150, Loss: 1.2007, Accuracy: 61.64%\n",
      "Epoch 81/150, Loss: 1.1995, Accuracy: 61.59%\n",
      "Epoch 82/150, Loss: 1.1912, Accuracy: 61.79%\n",
      "Epoch 83/150, Loss: 1.1932, Accuracy: 61.71%\n",
      "Epoch 84/150, Loss: 1.1833, Accuracy: 61.98%\n",
      "Epoch 85/150, Loss: 1.1846, Accuracy: 62.14%\n",
      "Epoch 86/150, Loss: 1.1791, Accuracy: 62.12%\n",
      "Epoch 87/150, Loss: 1.1773, Accuracy: 62.20%\n",
      "Epoch 88/150, Loss: 1.1821, Accuracy: 62.27%\n",
      "Epoch 89/150, Loss: 1.1727, Accuracy: 62.35%\n",
      "Epoch 90/150, Loss: 1.1539, Accuracy: 62.76%\n",
      "Epoch 91/150, Loss: 1.1552, Accuracy: 62.88%\n",
      "Epoch 92/150, Loss: 1.1559, Accuracy: 62.62%\n",
      "Epoch 93/150, Loss: 1.1467, Accuracy: 62.79%\n",
      "Epoch 94/150, Loss: 1.1420, Accuracy: 62.95%\n",
      "Epoch 95/150, Loss: 1.1463, Accuracy: 62.97%\n",
      "Epoch 96/150, Loss: 1.1413, Accuracy: 63.01%\n",
      "Epoch 97/150, Loss: 1.1388, Accuracy: 63.18%\n",
      "Epoch 98/150, Loss: 1.1358, Accuracy: 63.21%\n",
      "Epoch 99/150, Loss: 1.1405, Accuracy: 63.24%\n",
      "Epoch 100/150, Loss: 1.1380, Accuracy: 63.40%\n",
      "Epoch 101/150, Loss: 1.1314, Accuracy: 63.28%\n",
      "Epoch 102/150, Loss: 1.1171, Accuracy: 63.56%\n",
      "Epoch 103/150, Loss: 1.1257, Accuracy: 63.45%\n",
      "Epoch 104/150, Loss: 1.1126, Accuracy: 63.68%\n",
      "Epoch 105/150, Loss: 1.1135, Accuracy: 63.62%\n",
      "Epoch 106/150, Loss: 1.1006, Accuracy: 63.94%\n",
      "Epoch 107/150, Loss: 1.1006, Accuracy: 63.91%\n",
      "Epoch 108/150, Loss: 1.1017, Accuracy: 63.80%\n",
      "Epoch 109/150, Loss: 1.1041, Accuracy: 63.94%\n",
      "Epoch 110/150, Loss: 1.1038, Accuracy: 63.98%\n",
      "Early stopping triggered after 110 epochs.\n",
      "Model saved to vqa_model.pth\n"
     ]
    }
   ],
   "execution_count": 4
  },
  {
   "metadata": {},
   "cell_type": "markdown",
   "source": "",
   "id": "f874d75df756e988"
  },
  {
   "metadata": {
    "ExecuteTime": {
     "end_time": "2025-05-16T14:47:54.795990Z",
     "start_time": "2025-05-16T14:47:54.361614Z"
    }
   },
   "cell_type": "code",
   "source": [
    "with open('image_features.pkl', 'rb') as f:\n",
    "    img_feats = pickle.load(f)\n",
    "\n",
    "print(f\"Loaded {len(img_feats)} image features\")\n",
    "print(\"Sample keys (question IDs):\", list(img_feats.keys())[:5])\n"
   ],
   "id": "dc77fd29bec7cd5c",
   "outputs": [
    {
     "name": "stdout",
     "output_type": "stream",
     "text": [
      "Loaded 40504 image features\n",
      "Sample keys (question IDs): [262148002, 393225003, 393226002, 240301002, 131089004]\n"
     ]
    }
   ],
   "execution_count": 11
  },
  {
   "metadata": {
    "ExecuteTime": {
     "end_time": "2025-05-16T14:48:33.845632Z",
     "start_time": "2025-05-16T14:48:29.806236Z"
    }
   },
   "cell_type": "code",
   "source": [
    "with open(annotations_file, 'r') as f:\n",
    "    anns = json.load(f)['annotations']\n",
    "\n",
    "qids = [ann['question_id'] for ann in anns]\n",
    "print(f\"Loaded {len(qids)} annotations\")\n",
    "print(\"Sample question_ids:\", qids[:5])\n"
   ],
   "id": "c17d0eb872254ecd",
   "outputs": [
    {
     "name": "stdout",
     "output_type": "stream",
     "text": [
      "Loaded 443757 annotations\n",
      "Sample question_ids: [458752000, 458752001, 458752002, 458752003, 262146000]\n"
     ]
    }
   ],
   "execution_count": 12
  },
  {
   "metadata": {
    "ExecuteTime": {
     "end_time": "2025-05-16T14:48:38.983423Z",
     "start_time": "2025-05-16T14:48:38.937237Z"
    }
   },
   "cell_type": "code",
   "source": [
    "intersection = set(img_feats.keys()) & set(qids)\n",
    "print(f\"Matching question IDs: {len(intersection)}\")"
   ],
   "id": "8a41c79818f5e109",
   "outputs": [
    {
     "name": "stdout",
     "output_type": "stream",
     "text": [
      "Matching question IDs: 0\n"
     ]
    }
   ],
   "execution_count": 13
  }
 ],
 "metadata": {
  "kernelspec": {
   "display_name": "Python 3",
   "language": "python",
   "name": "python3"
  },
  "language_info": {
   "codemirror_mode": {
    "name": "ipython",
    "version": 2
   },
   "file_extension": ".py",
   "mimetype": "text/x-python",
   "name": "python",
   "nbconvert_exporter": "python",
   "pygments_lexer": "ipython2",
   "version": "2.7.6"
  }
 },
 "nbformat": 4,
 "nbformat_minor": 5
}
