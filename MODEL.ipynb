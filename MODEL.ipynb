{
 "cells": [
  {
   "cell_type": "code",
   "id": "initial_id",
   "metadata": {
    "collapsed": true,
    "ExecuteTime": {
     "end_time": "2025-05-16T09:59:01.727068Z",
     "start_time": "2025-05-16T09:58:49.650099Z"
    }
   },
   "source": [
    "# Phase 1: Load and Tokenize Questions\n",
    "import nltk\n",
    "import json\n",
    "import pickle\n",
    "\n",
    "# Download NLTK punkt_tab (run once)\n",
    "nltk.download('punkt_tab')\n",
    "\n",
    "# Load questions directly\n",
    "with open(r'D:\\Projects\\asfdgfhjghk\\dataset\\v2_Questions_Train_mscoco\\v2_OpenEnded_mscoco_train2014_questions.json',\n",
    "          'r') as f:\n",
    "    questions = json.load(f)['questions']\n",
    "\n",
    "# Tokenize with NLTK\n",
    "tokenized_questions = []\n",
    "for q in questions:\n",
    "    tokens = [word.lower() for word in nltk.word_tokenize(q['question'])]\n",
    "    tokenized_questions.append(tokens)\n",
    "\n",
    "# Save to file\n",
    "with open('tokenized_questions.pkl', 'wb') as f:\n",
    "    pickle.dump(tokenized_questions, f)\n",
    "\n",
    "print(f\"Loaded and tokenized {len(tokenized_questions)} questions\")"
   ],
   "outputs": [
    {
     "name": "stderr",
     "output_type": "stream",
     "text": [
      "[nltk_data] Downloading package punkt_tab to\n",
      "[nltk_data]     C:\\Users\\anmol\\AppData\\Roaming\\nltk_data...\n",
      "[nltk_data]   Package punkt_tab is already up-to-date!\n"
     ]
    },
    {
     "name": "stdout",
     "output_type": "stream",
     "text": [
      "Loaded and tokenized 443757 questions\n"
     ]
    }
   ],
   "execution_count": 15
  },
  {
   "metadata": {
    "ExecuteTime": {
     "end_time": "2025-05-16T09:59:04.014641Z",
     "start_time": "2025-05-16T09:59:01.735094Z"
    }
   },
   "cell_type": "code",
   "source": [
    "# Phase 1 (Continued): Build Vocabulary and Convert to Sequences\n",
    "import pickle\n",
    "from collections import Counter\n",
    "\n",
    "# Load tokenized questions\n",
    "with open('tokenized_questions.pkl', 'rb') as f:\n",
    "    tokenized_questions = pickle.load(f)\n",
    "\n",
    "# Build vocabulary (top 10,000 words)\n",
    "vocab = Counter()\n",
    "for tokens in tokenized_questions:\n",
    "    vocab.update(tokens)\n",
    "\n",
    "# Keep top 10,000 words\n",
    "vocab = {word: idx + 1 for idx, (word, _) in enumerate(vocab.most_common(10000))}\n",
    "vocab['<UNK>'] = len(vocab) + 1  # Unknown token\n",
    "vocab['<PAD>'] = 0  # Padding token\n",
    "\n",
    "# Save vocabulary\n",
    "with open('vocab.pkl', 'wb') as f:\n",
    "    pickle.dump(vocab, f)\n",
    "\n",
    "# Convert questions to sequences\n",
    "max_len = 14  # Max question length\n",
    "question_sequences = []\n",
    "for tokens in tokenized_questions:\n",
    "    seq = [vocab.get(token, vocab['<UNK>']) for token in tokens[:max_len]]\n",
    "    seq = seq + [0] * (max_len - len(seq))  # Pad with zeros\n",
    "    question_sequences.append(seq)\n",
    "\n",
    "# Save sequences\n",
    "with open('question_sequences.pkl', 'wb') as f:\n",
    "    pickle.dump(question_sequences, f)\n",
    "\n",
    "print(f\"Created vocabulary with {len(vocab)} words\")\n",
    "print(f\"Converted {len(question_sequences)} questions to sequences\")"
   ],
   "id": "9d632b5e378637e5",
   "outputs": [
    {
     "name": "stdout",
     "output_type": "stream",
     "text": [
      "Created vocabulary with 10002 words\n",
      "Converted 443757 questions to sequences\n"
     ]
    }
   ],
   "execution_count": 16
  },
  {
   "metadata": {
    "ExecuteTime": {
     "end_time": "2025-05-16T10:03:47.162576Z",
     "start_time": "2025-05-16T10:03:46.905963Z"
    }
   },
   "cell_type": "code",
   "source": [
    "# Inspect Tokenized Questions\n",
    "import pickle\n",
    "\n",
    "# Load tokenized questions\n",
    "with open('tokenized_questions.pkl', 'rb') as f:\n",
    "    tokenized_questions = pickle.load(f)\n",
    "\n",
    "# Print first 5 questions\n",
    "print(\"First 5 tokenized questions:\")\n",
    "for i, tokens in enumerate(tokenized_questions[:5], 1):\n",
    "    print(f\"Question: {tokens}\")"
   ],
   "id": "31aaf1463bda939f",
   "outputs": [
    {
     "name": "stdout",
     "output_type": "stream",
     "text": [
      "First 5 tokenized questions:\n",
      "Question: ['what', 'is', 'this', 'photo', 'taken', 'looking', 'through', '?']\n",
      "Question: ['what', 'position', 'is', 'this', 'man', 'playing', '?']\n",
      "Question: ['what', 'color', 'is', 'the', 'players', 'shirt', '?']\n",
      "Question: ['is', 'this', 'man', 'a', 'professional', 'baseball', 'player', '?']\n",
      "Question: ['what', 'color', 'is', 'the', 'snow', '?']\n"
     ]
    }
   ],
   "execution_count": 30
  },
  {
   "metadata": {
    "ExecuteTime": {
     "end_time": "2025-05-16T09:59:59.963493Z",
     "start_time": "2025-05-16T09:59:53.017414Z"
    }
   },
   "cell_type": "code",
   "source": [
    "# Phase 2: Preprocess Answers\n",
    "import json\n",
    "import pickle\n",
    "from collections import Counter\n",
    "\n",
    "# Load answers\n",
    "with open(r'D:\\Projects\\asfdgfhjghk\\dataset\\v2_Annotations_Train_mscoco\\v2_mscoco_train2014_annotations.json',\n",
    "          'r') as f:\n",
    "    annotations = json.load(f)['annotations']\n",
    "\n",
    "# Get most common answer per question\n",
    "answers = []\n",
    "for ann in annotations:\n",
    "    ans_counts = Counter(a['answer'].lower() for a in ann['answers'])\n",
    "    most_common = ans_counts.most_common(1)[0][0]  # Pick the top answer\n",
    "    answers.append(most_common)\n",
    "\n",
    "# Build answer vocabulary (top 3,000)\n",
    "answer_vocab = {ans: idx for idx, (ans, _) in enumerate(Counter(answers).most_common(3000))}\n",
    "\n",
    "# Save answer vocabulary\n",
    "with open('answer_vocab.pkl', 'wb') as f:\n",
    "    pickle.dump(answer_vocab, f)\n",
    "\n",
    "print(f\"Created answer vocabulary with {len(answer_vocab)} answers\")"
   ],
   "id": "6e9cc9cdc5177b2a",
   "outputs": [
    {
     "name": "stdout",
     "output_type": "stream",
     "text": [
      "Created answer vocabulary with 3000 answers\n"
     ]
    }
   ],
   "execution_count": 23
  },
  {
   "metadata": {
    "ExecuteTime": {
     "end_time": "2025-05-16T09:59:59.986560Z",
     "start_time": "2025-05-16T09:59:59.963493Z"
    }
   },
   "cell_type": "code",
   "source": [
    "import pickle\n",
    "\n",
    "answer_vocab = pickle.load(open('answer_vocab.pkl', 'rb'))\n",
    "print(list(answer_vocab.items())[:5])  # First 5 answers"
   ],
   "id": "9f5b90eb66517137",
   "outputs": [
    {
     "name": "stdout",
     "output_type": "stream",
     "text": [
      "[('no', 0), ('yes', 1), ('2', 2), ('1', 3), ('white', 4)]\n"
     ]
    }
   ],
   "execution_count": 24
  },
  {
   "metadata": {
    "ExecuteTime": {
     "end_time": "2025-05-16T10:52:35.556288Z",
     "start_time": "2025-05-16T10:27:04.216675Z"
    }
   },
   "cell_type": "code",
   "source": [
    "import os\n",
    "import torch\n",
    "import torchvision.models as models\n",
    "import torchvision.transforms as transforms\n",
    "from PIL import Image\n",
    "import pickle\n",
    "import json\n",
    "from tqdm import tqdm\n",
    "import time\n",
    "\n",
    "# Set device\n",
    "device = torch.device(\"cuda\" if torch.cuda.is_available() else \"cpu\")\n",
    "print(f\"Using device: {device}\")\n",
    "\n",
    "# Load question data\n",
    "with open(r'D:\\Projects\\asfdgfhjghk\\dataset\\v2_Questions_Train_mscoco\\v2_OpenEnded_mscoco_train2014_questions.json',\n",
    "          'r') as f:\n",
    "    questions = json.load(f)['questions']\n",
    "\n",
    "# Get image IDs\n",
    "image_ids = {q['image_id']: q['question_id'] for q in questions}\n",
    "\n",
    "# Define transformations\n",
    "transform = transforms.Compose([\n",
    "    transforms.Resize((224, 224)),\n",
    "    transforms.ToTensor(),\n",
    "    transforms.Normalize(mean=[0.485, 0.456, 0.406], std=[0.229, 0.224, 0.225])\n",
    "])\n",
    "\n",
    "# Load ResNet model\n",
    "resnet = models.resnet50(pretrained=True).to(device)\n",
    "resnet.eval()\n",
    "resnet = torch.nn.Sequential(*list(resnet.children())[:-1])\n",
    "\n",
    "# Image directory\n",
    "image_dir = r'D:\\Projects\\asfdgfhjghk\\dataset\\train2014\\train2014'\n",
    "image_features = {}\n",
    "batch_size = 64\n",
    "\n",
    "# Verify directory\n",
    "if not os.path.exists(image_dir):\n",
    "    print(f\"Error: Directory not found: {image_dir}\")\n",
    "    exit(1)\n",
    "else:\n",
    "    print(f\"Directory found: {image_dir}\")\n",
    "    print(f\"Number of files: {len(os.listdir(image_dir))}\")\n",
    "\n",
    "# Process images in batches\n",
    "image_id_list = list(image_ids.keys())\n",
    "start_time = time.time()\n",
    "batch_images = []\n",
    "batch_question_ids = []\n",
    "\n",
    "for i, image_id in enumerate(tqdm(image_id_list, desc=\"Processing images\")):\n",
    "    image_filename = f\"COCO_train2014_{str(image_id).zfill(12)}.jpg\"\n",
    "    image_path = os.path.join(image_dir, image_filename)\n",
    "\n",
    "    if not os.path.exists(image_path):\n",
    "        print(f\"Image not found: {image_path}\")\n",
    "        continue\n",
    "\n",
    "    try:\n",
    "        image = Image.open(image_path).convert('RGB')\n",
    "        image = transform(image)\n",
    "        batch_images.append(image)\n",
    "        batch_question_ids.append(image_ids[image_id])\n",
    "    except Exception as e:\n",
    "        print(f\"Error processing image {image_path}: {e}\")\n",
    "        continue\n",
    "\n",
    "    if len(batch_images) == batch_size or i == len(image_id_list) - 1:\n",
    "        if batch_images:\n",
    "            try:\n",
    "                images = torch.stack(batch_images).to(device)\n",
    "                with torch.no_grad():\n",
    "                    features = resnet(images)\n",
    "                    features = features.squeeze(-1).squeeze(-1).cpu().numpy()\n",
    "                for question_id, feature in zip(batch_question_ids, features):\n",
    "                    image_features[question_id] = feature\n",
    "                del images, features\n",
    "                torch.cuda.empty_cache()\n",
    "            except RuntimeError as e:\n",
    "                print(f\"GPU error: {e}\")\n",
    "        batch_images = []\n",
    "        batch_question_ids = []\n",
    "\n",
    "# Save features\n",
    "with open('image_features.pkl', 'wb') as f:\n",
    "    pickle.dump(image_features, f)\n",
    "\n",
    "end_time = time.time()\n",
    "print(f\"Extracted features for {len(image_features)} images\")\n",
    "print(f\"Total time: {end_time - start_time:.2f} seconds\")"
   ],
   "id": "acfcfcdfa30da4dc",
   "outputs": [
    {
     "name": "stdout",
     "output_type": "stream",
     "text": [
      "Using device: cuda\n"
     ]
    },
    {
     "name": "stderr",
     "output_type": "stream",
     "text": [
      "D:\\Projects\\asfdgfhjghk\\.venv\\Lib\\site-packages\\torchvision\\models\\_utils.py:208: UserWarning: The parameter 'pretrained' is deprecated since 0.13 and may be removed in the future, please use 'weights' instead.\n",
      "  warnings.warn(\n",
      "D:\\Projects\\asfdgfhjghk\\.venv\\Lib\\site-packages\\torchvision\\models\\_utils.py:223: UserWarning: Arguments other than a weight enum or `None` for 'weights' are deprecated since 0.13 and may be removed in the future. The current behavior is equivalent to passing `weights=ResNet50_Weights.IMAGENET1K_V1`. You can also use `weights=ResNet50_Weights.DEFAULT` to get the most up-to-date weights.\n",
      "  warnings.warn(msg)\n"
     ]
    },
    {
     "name": "stdout",
     "output_type": "stream",
     "text": [
      "Directory found: D:\\Projects\\asfdgfhjghk\\dataset\\train2014\\train2014\n",
      "Number of files: 82783\n"
     ]
    },
    {
     "name": "stderr",
     "output_type": "stream",
     "text": [
      "Processing images: 100%|██████████| 82783/82783 [25:25<00:00, 54.28it/s] \n"
     ]
    },
    {
     "name": "stdout",
     "output_type": "stream",
     "text": [
      "Extracted features for 82783 images\n",
      "Total time: 1526.07 seconds\n"
     ]
    }
   ],
   "execution_count": 1
  },
  {
   "metadata": {
    "ExecuteTime": {
     "end_time": "2025-05-16T11:53:09.084719Z",
     "start_time": "2025-05-16T11:52:54.596010Z"
    }
   },
   "cell_type": "code",
   "source": [
    "import torch\n",
    "from torch.utils.data import Dataset, DataLoader\n",
    "import pickle\n",
    "import json\n",
    "\n",
    "\n",
    "class VQADataset(Dataset):\n",
    "    def __init__(self, image_features_file, question_sequences_file, answer_vocab_file, annotations_file):\n",
    "        with open(image_features_file, 'rb') as f:\n",
    "            self.image_features = pickle.load(f)\n",
    "        with open(question_sequences_file, 'rb') as f:\n",
    "            self.question_sequences = pickle.load(f)\n",
    "        with open(answer_vocab_file, 'rb') as f:\n",
    "            self.answer_vocab = pickle.load(f)\n",
    "        with open(annotations_file, 'r') as f:\n",
    "            self.annotations = json.load(f)['annotations']\n",
    "        # Filter valid question IDs\n",
    "        self.question_ids = [ann['question_id'] for ann in self.annotations\n",
    "                             if ann['question_id'] in self.image_features]\n",
    "\n",
    "    def __len__(self):\n",
    "        return len(self.question_ids)\n",
    "\n",
    "    def __getitem__(self, idx):\n",
    "        question_id = self.question_ids[idx]\n",
    "        image_feature = torch.tensor(self.image_features[question_id], dtype=torch.float32)\n",
    "        question_seq = torch.tensor(self.question_sequences[idx], dtype=torch.long)\n",
    "        answer = self.annotations[idx]['multiple_choice_answer'].lower()\n",
    "        answer_id = self.answer_vocab.get(answer, -1)  # -1 for unknown answers\n",
    "        return image_feature, question_seq, answer_id\n",
    "\n",
    "\n",
    "# Example usage\n",
    "if __name__ == \"__main__\":\n",
    "    # File paths\n",
    "    image_features_file = 'image_features.pkl'\n",
    "    question_sequences_file = 'question_sequences.pkl'\n",
    "    answer_vocab_file = 'answer_vocab.pkl'\n",
    "    annotations_file = r'D:\\Projects\\asfdgfhjghk\\dataset\\v2_Annotations_Train_mscoco\\v2_mscoco_train2014_annotations.json'\n",
    "\n",
    "    # Create dataset\n",
    "    dataset = VQADataset(image_features_file, question_sequences_file, answer_vocab_file, annotations_file)\n",
    "    print(f\"Dataset size: {len(dataset)}\")\n",
    "\n",
    "    # Create DataLoader\n",
    "    dataloader = DataLoader(dataset, batch_size=64, shuffle=True, pin_memory=True)\n",
    "\n",
    "    # Test one batch\n",
    "    for image_features, question_seqs, answer_ids in dataloader:\n",
    "        print(f\"Image features shape: {image_features.shape}\")  # [batch_size, 2048]\n",
    "        print(f\"Question sequences shape: {question_seqs.shape}\")  # [batch_size, max_len]\n",
    "        print(f\"Answer IDs shape: {answer_ids.shape}\")  # [batch_size]\n",
    "        break"
   ],
   "id": "4dd7a590a28f8801",
   "outputs": [
    {
     "name": "stdout",
     "output_type": "stream",
     "text": [
      "Dataset size: 82783\n",
      "Image features shape: torch.Size([64, 2048])\n",
      "Question sequences shape: torch.Size([64, 14])\n",
      "Answer IDs shape: torch.Size([64])\n"
     ]
    }
   ],
   "execution_count": 1
  },
  {
   "metadata": {
    "ExecuteTime": {
     "end_time": "2025-05-16T11:53:09.171345Z",
     "start_time": "2025-05-16T11:53:09.159977Z"
    }
   },
   "cell_type": "code",
   "source": [
    "import torch\n",
    "import torch.nn as nn\n",
    "import torch.optim as optim\n",
    "from torch.utils.data import DataLoader\n",
    "import pickle\n",
    "from torch.nn import LSTM\n",
    "\n",
    "\n",
    "# VQA Model\n",
    "class VQAModel(nn.Module):\n",
    "    def __init__(self, vocab_size, embed_dim=256, hidden_dim=512, num_answers=3000):\n",
    "        super().__init__()\n",
    "        # Question processing\n",
    "        self.embedding = nn.Embedding(vocab_size, embed_dim, padding_idx=0)\n",
    "        self.lstm = LSTM(embed_dim, hidden_dim, batch_first=True, num_layers=2, dropout=0.3)\n",
    "\n",
    "        # Image processing\n",
    "        self.image_fc = nn.Linear(2048, hidden_dim)\n",
    "        self.attention = nn.MultiheadAttention(hidden_dim, num_heads=8)\n",
    "\n",
    "        # Fusion and output\n",
    "        self.fusion_fc = nn.Linear(hidden_dim * 2, hidden_dim)\n",
    "        self.output_fc = nn.Linear(hidden_dim, num_answers)\n",
    "        self.relu = nn.ReLU()\n",
    "        self.dropout = nn.Dropout(0.5)\n",
    "\n",
    "    def forward(self, images, questions):\n",
    "        # Image features\n",
    "        img_features = self.relu(self.image_fc(images))  # [batch_size, hidden_dim]\n",
    "\n",
    "        # Question features\n",
    "        embedded = self.embedding(questions)  # [batch_size, seq_len, embed_dim]\n",
    "        lstm_out, _ = self.lstm(embedded)  # [batch_size, seq_len, hidden_dim]\n",
    "\n",
    "        # Attention: image features as query, question as key/value\n",
    "        img_features = img_features.unsqueeze(0)  # [1, batch_size, hidden_dim]\n",
    "        lstm_out = lstm_out.transpose(0, 1)  # [seq_len, batch_size, hidden_dim]\n",
    "        attn_out, _ = self.attention(img_features, lstm_out, lstm_out)  # [1, batch_size, hidden_dim]\n",
    "        attn_out = attn_out.squeeze(0)  # [batch_size, hidden_dim]\n",
    "\n",
    "        # Fusion\n",
    "        combined = torch.cat((attn_out, lstm_out[-1]), dim=1)  # [batch_size, hidden_dim*2]\n",
    "        fused = self.relu(self.fusion_fc(combined))\n",
    "        fused = self.dropout(fused)\n",
    "        output = self.output_fc(fused)\n",
    "        return output"
   ],
   "id": "1def7278a03c3849",
   "outputs": [],
   "execution_count": 2
  },
  {
   "metadata": {
    "ExecuteTime": {
     "end_time": "2025-05-16T11:53:50.583393Z",
     "start_time": "2025-05-16T11:53:50.576004Z"
    }
   },
   "cell_type": "code",
   "source": [
    "def train_model(model, dataloader, num_epochs=150, device='cuda', patience=3):\n",
    "    criterion = nn.CrossEntropyLoss(ignore_index=-1)  # Ignore unknown answers\n",
    "    optimizer = optim.Adam(model.parameters(), lr=0.001)\n",
    "    model.to(device)\n",
    "\n",
    "    best_loss = float('inf')\n",
    "    epochs_without_improvement = 0\n",
    "\n",
    "    for epoch in range(num_epochs):\n",
    "        model.train()\n",
    "        total_loss = 0\n",
    "        correct = 0\n",
    "        total = 0\n",
    "\n",
    "        for images, questions, answers in dataloader:\n",
    "            images, questions, answers = images.to(device), questions.to(device), answers.to(device)\n",
    "            optimizer.zero_grad()\n",
    "            outputs = model(images, questions)\n",
    "            loss = criterion(outputs, answers)\n",
    "            loss.backward()\n",
    "            optimizer.step()\n",
    "\n",
    "            total_loss += loss.item()\n",
    "            _, predicted = torch.max(outputs, 1)\n",
    "            correct += (predicted == answers).sum().item()\n",
    "            total += (answers != -1).sum().item()\n",
    "\n",
    "        avg_loss = total_loss / len(dataloader)\n",
    "        accuracy = correct / total * 100\n",
    "\n",
    "        print(f\"Epoch {epoch + 1}/{num_epochs}, Loss: {avg_loss:.4f}, Accuracy: {accuracy:.2f}%\")\n",
    "\n",
    "        # Early stopping check\n",
    "        if avg_loss < best_loss:\n",
    "            best_loss = avg_loss\n",
    "            epochs_without_improvement = 0\n",
    "            # Optionally save the best model\n",
    "            torch.save(model.state_dict(), 'best_vqa_model.pth')\n",
    "        else:\n",
    "            epochs_without_improvement += 1\n",
    "            if epochs_without_improvement >= patience:\n",
    "                print(f\"Early stopping triggered after {epoch + 1} epochs.\")\n",
    "                break\n"
   ],
   "id": "4c37eea6fc7f0c16",
   "outputs": [],
   "execution_count": 4
  },
  {
   "metadata": {
    "ExecuteTime": {
     "end_time": "2025-05-16T12:13:22.692661Z",
     "start_time": "2025-05-16T11:53:52.806498Z"
    }
   },
   "cell_type": "code",
   "source": [
    "# Main script\n",
    "if __name__ == \"__main__\":\n",
    "    # File paths\n",
    "    image_features_file = 'image_features.pkl'\n",
    "    question_sequences_file = 'question_sequences.pkl'\n",
    "    answer_vocab_file = 'answer_vocab.pkl'\n",
    "    annotations_file = r'D:\\Projects\\asfdgfhjghk\\dataset\\v2_Annotations_Train_mscoco\\v2_mscoco_train2014_annotations.json'\n",
    "\n",
    "    # Load vocab to get vocab_size\n",
    "    with open(question_sequences_file, 'rb') as f:\n",
    "        question_sequences = pickle.load(f)\n",
    "    with open(answer_vocab_file, 'rb') as f:\n",
    "        answer_vocab = pickle.load(f)\n",
    "    vocab_size = max([max(seq) for seq in question_sequences]) + 1  # Max index + 1\n",
    "\n",
    "    # Create dataset and dataloader\n",
    "    dataset = VQADataset(image_features_file, question_sequences_file, answer_vocab_file, annotations_file)\n",
    "    dataloader = DataLoader(dataset, batch_size=64, shuffle=True, pin_memory=True)\n",
    "\n",
    "    # Initialize model\n",
    "    device = torch.device(\"cuda\" if torch.cuda.is_available() else \"cpu\")\n",
    "    model = VQAModel(vocab_size, num_answers=len(answer_vocab))\n",
    "\n",
    "    # Train\n",
    "    train_model(model, dataloader, num_epochs=150, device=device, patience=3)\n",
    "\n",
    "    # Save model\n",
    "    torch.save(model.state_dict(), 'vqa_model.pth')\n",
    "    print(\"Model saved to vqa_model.pth\")"
   ],
   "id": "4144d5285562cc92",
   "outputs": [
    {
     "name": "stdout",
     "output_type": "stream",
     "text": [
      "Epoch 1/50, Loss: 3.6116, Accuracy: 24.96%\n",
      "Epoch 2/50, Loss: 3.1917, Accuracy: 26.84%\n",
      "Epoch 3/50, Loss: 3.0127, Accuracy: 27.73%\n",
      "Epoch 4/50, Loss: 2.8791, Accuracy: 28.11%\n",
      "Epoch 5/50, Loss: 2.7654, Accuracy: 28.76%\n",
      "Epoch 6/50, Loss: 2.6578, Accuracy: 29.42%\n",
      "Epoch 7/50, Loss: 2.5656, Accuracy: 30.49%\n",
      "Epoch 8/50, Loss: 2.4811, Accuracy: 31.26%\n",
      "Epoch 9/50, Loss: 2.3993, Accuracy: 32.12%\n",
      "Epoch 10/50, Loss: 2.3298, Accuracy: 33.76%\n",
      "Epoch 11/50, Loss: 2.2637, Accuracy: 35.10%\n",
      "Epoch 12/50, Loss: 2.1969, Accuracy: 36.96%\n",
      "Epoch 13/50, Loss: 2.1368, Accuracy: 38.67%\n",
      "Epoch 14/50, Loss: 2.0751, Accuracy: 40.34%\n",
      "Epoch 15/50, Loss: 2.0168, Accuracy: 41.91%\n",
      "Epoch 16/50, Loss: 1.9631, Accuracy: 43.53%\n",
      "Epoch 17/50, Loss: 1.9077, Accuracy: 44.85%\n",
      "Epoch 18/50, Loss: 1.8603, Accuracy: 46.02%\n",
      "Epoch 19/50, Loss: 1.8175, Accuracy: 47.10%\n",
      "Epoch 20/50, Loss: 1.7808, Accuracy: 48.35%\n",
      "Epoch 21/50, Loss: 1.7374, Accuracy: 49.35%\n",
      "Epoch 22/50, Loss: 1.7017, Accuracy: 50.15%\n",
      "Epoch 23/50, Loss: 1.6741, Accuracy: 50.83%\n",
      "Epoch 24/50, Loss: 1.6344, Accuracy: 51.72%\n",
      "Epoch 25/50, Loss: 1.6014, Accuracy: 52.33%\n",
      "Epoch 26/50, Loss: 1.5874, Accuracy: 52.62%\n",
      "Epoch 27/50, Loss: 1.5594, Accuracy: 53.51%\n",
      "Epoch 28/50, Loss: 1.5340, Accuracy: 54.14%\n",
      "Epoch 29/50, Loss: 1.5161, Accuracy: 54.35%\n",
      "Epoch 30/50, Loss: 1.4976, Accuracy: 54.82%\n",
      "Epoch 31/50, Loss: 1.4724, Accuracy: 55.42%\n",
      "Epoch 32/50, Loss: 1.4571, Accuracy: 55.47%\n",
      "Epoch 33/50, Loss: 1.4326, Accuracy: 56.22%\n",
      "Epoch 34/50, Loss: 1.4158, Accuracy: 56.70%\n",
      "Epoch 35/50, Loss: 1.4044, Accuracy: 56.71%\n",
      "Epoch 36/50, Loss: 1.3840, Accuracy: 57.31%\n",
      "Epoch 37/50, Loss: 1.3747, Accuracy: 57.57%\n",
      "Epoch 38/50, Loss: 1.3616, Accuracy: 57.73%\n",
      "Epoch 39/50, Loss: 1.3440, Accuracy: 58.25%\n",
      "Epoch 40/50, Loss: 1.3214, Accuracy: 58.55%\n",
      "Epoch 41/50, Loss: 1.3219, Accuracy: 58.75%\n",
      "Epoch 42/50, Loss: 1.3069, Accuracy: 59.11%\n",
      "Epoch 43/50, Loss: 1.2953, Accuracy: 59.34%\n",
      "Epoch 44/50, Loss: 1.2901, Accuracy: 59.30%\n",
      "Epoch 45/50, Loss: 1.2739, Accuracy: 59.63%\n",
      "Epoch 46/50, Loss: 1.2625, Accuracy: 59.91%\n",
      "Epoch 47/50, Loss: 1.2567, Accuracy: 60.10%\n",
      "Epoch 48/50, Loss: 1.2528, Accuracy: 60.17%\n",
      "Epoch 49/50, Loss: 1.2358, Accuracy: 60.68%\n",
      "Epoch 50/50, Loss: 1.2277, Accuracy: 60.67%\n",
      "Model saved to vqa_model.pth\n"
     ]
    }
   ],
   "execution_count": 5
  },
  {
   "metadata": {},
   "cell_type": "code",
   "outputs": [],
   "execution_count": null,
   "source": "",
   "id": "dc77fd29bec7cd5c"
  }
 ],
 "metadata": {
  "kernelspec": {
   "display_name": "Python 3",
   "language": "python",
   "name": "python3"
  },
  "language_info": {
   "codemirror_mode": {
    "name": "ipython",
    "version": 2
   },
   "file_extension": ".py",
   "mimetype": "text/x-python",
   "name": "python",
   "nbconvert_exporter": "python",
   "pygments_lexer": "ipython2",
   "version": "2.7.6"
  }
 },
 "nbformat": 4,
 "nbformat_minor": 5
}
