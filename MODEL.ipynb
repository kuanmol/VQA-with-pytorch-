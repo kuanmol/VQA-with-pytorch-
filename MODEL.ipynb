{
 "cells": [
  {
   "metadata": {},
   "cell_type": "markdown",
   "source": "## Preprocessing of Question dataset",
   "id": "1fe98772616e294c"
  },
  {
   "metadata": {},
   "cell_type": "code",
   "source": [
    "import nltk\n",
    "import json\n",
    "import pickle\n",
    "from collections import Counter\n",
    "\n",
    "# Download tokenizer model once\n",
    "nltk.download('punkt')\n",
    "\n",
    "# --- Load training questions ---\n",
    "with open(r'D:\\Projects\\asfdgfhjghk\\dataset\\v2_Questions_Train_mscoco\\v2_OpenEnded_mscoco_train2014_questions.json', 'r') as f:\n",
    "    questions = json.load(f)['questions']\n",
    "\n",
    "# --- Tokenize training questions ---\n",
    "tokenized_questions = []\n",
    "for q in questions:\n",
    "    tokens = [word.lower() for word in nltk.word_tokenize(q['question'])]\n",
    "    tokenized_questions.append(tokens)\n",
    "\n",
    "# --- Build vocabulary (top 9,999 words + <PAD> and <UNK>) ---\n",
    "word_counts = Counter(word for tokens in tokenized_questions for word in tokens)\n",
    "most_common = word_counts.most_common(9999)  # Reserve 1 slot for <UNK>\n",
    "vocab = {word: idx + 1 for idx, (word, _) in enumerate(most_common)}  # Start idx from 1\n",
    "vocab['<PAD>'] = 0\n",
    "vocab['<UNK>'] = 9999  # Use 9999 instead of len(vocab)\n",
    "\n",
    "# --- Verify vocabulary size ---\n",
    "print(f\"Vocabulary size: {len(vocab)}\")  # Should be 10000 (9999 words + <PAD> + <UNK>)\n",
    "\n",
    "# --- Convert training tokens to sequences and pad ---\n",
    "max_len = 14\n",
    "question_sequences = []\n",
    "for tokens in tokenized_questions:\n",
    "    seq = [vocab.get(token, vocab['<UNK>']) for token in tokens[:max_len]]\n",
    "    seq += [vocab['<PAD>']] * (max_len - len(seq))\n",
    "    question_sequences.append(seq)\n",
    "\n",
    "# --- Save vocabulary and training sequences ---\n",
    "with open('PKL/vocabs/vocab.pkl', 'wb') as f:\n",
    "    pickle.dump(vocab, f)\n",
    "\n",
    "with open('PKL/q files/train_question_sequences.pkl', 'wb') as f:\n",
    "    pickle.dump(question_sequences, f)\n",
    "\n",
    "print(f\"Training data processed: {len(question_sequences)} questions\")\n",
    "print(f\"Vocabulary size (including special tokens): {len(vocab)}\")\n",
    "\n",
    "# --- Validation preprocessing ---\n",
    "with open(r'D:\\Projects\\asfdgfhjghk\\dataset\\v2_Questions_Val_mscoco\\v2_OpenEnded_mscoco_val2014_questions.json', 'r') as f:\n",
    "    val_qs = json.load(f)['questions']\n",
    "\n",
    "# --- Tokenize validation questions ---\n",
    "val_tokens = [[tok.lower() for tok in nltk.word_tokenize(q['question'])] for q in val_qs]\n",
    "\n",
    "# --- Load vocabulary ---\n",
    "with open('PKL/vocabs/vocab.pkl', 'rb') as f:\n",
    "    vocab = pickle.load(f)\n",
    "\n",
    "# --- Convert validation tokens to sequences and pad ---\n",
    "max_len = 14\n",
    "val_sequences = []\n",
    "for tokens in val_tokens:\n",
    "    seq = [vocab.get(token, vocab['<UNK>']) for token in tokens[:max_len]]\n",
    "    seq += [vocab['<PAD>']] * (max_len - len(seq))\n",
    "    val_sequences.append(seq)\n",
    "\n",
    "# --- Save validation sequences ---\n",
    "with open('PKL/q files/val_question_sequences.pkl', 'wb') as f:\n",
    "    pickle.dump(val_sequences, f)\n",
    "\n",
    "print(f\"Validation data processed: {len(val_sequences)} questions\")"
   ],
   "id": "26a5cf3e48b76cef",
   "outputs": [],
   "execution_count": null
  },
  {
   "metadata": {
    "ExecuteTime": {
     "end_time": "2025-05-16T14:06:18.927921Z",
     "start_time": "2025-05-16T14:06:04.996396Z"
    }
   },
   "cell_type": "code",
   "outputs": [
    {
     "name": "stderr",
     "output_type": "stream",
     "text": [
      "[nltk_data] Downloading package punkt to\n",
      "[nltk_data]     C:\\Users\\anmol\\AppData\\Roaming\\nltk_data...\n",
      "[nltk_data]   Package punkt is already up-to-date!\n"
     ]
    },
    {
     "name": "stdout",
     "output_type": "stream",
     "text": [
      "Training data processed: 443757 questions\n",
      "Vocabulary size (including special tokens): 10002\n"
     ]
    }
   ],
   "execution_count": 2,
   "source": [
    "'''PREPROCESSING TRAINING DATASET OF QUESTIONS'''\n",
    "\n",
    "import nltk\n",
    "import json\n",
    "import pickle\n",
    "from collections import Counter\n",
    "\n",
    "# Download tokenizer model once\n",
    "nltk.download('punkt')\n",
    "\n",
    "# --- Load training questions ---\n",
    "with open(r'D:\\Projects\\asfdgfhjghk\\dataset\\v2_Questions_Train_mscoco\\v2_OpenEnded_mscoco_train2014_questions.json',\n",
    "          'r') as f:\n",
    "    questions = json.load(f)['questions']\n",
    "\n",
    "# --- Tokenize training questions ---\n",
    "tokenized_questions = []\n",
    "for q in questions:\n",
    "    tokens = [word.lower() for word in nltk.word_tokenize(q['question'])]\n",
    "    tokenized_questions.append(tokens)\n",
    "\n",
    "# --- Build vocabulary (top 10,000 words + special tokens) ---\n",
    "word_counts = Counter(word for tokens in tokenized_questions for word in tokens)\n",
    "most_common = word_counts.most_common(10000)\n",
    "\n",
    "vocab = {word: idx + 1 for idx, (word, _) in enumerate(most_common)}  # Start idx from 1\n",
    "vocab['<PAD>'] = 0\n",
    "vocab['<UNK>'] = len(vocab)  # Unknown token at the end\n",
    "\n",
    "# --- Convert training tokens to sequences and pad ---\n",
    "max_len = 14\n",
    "question_sequences = []\n",
    "for tokens in tokenized_questions:\n",
    "    seq = [vocab.get(token, vocab['<UNK>']) for token in tokens[:max_len]]\n",
    "    seq += [vocab['<PAD>']] * (max_len - len(seq))\n",
    "    question_sequences.append(seq)\n",
    "\n",
    "# --- Save vocabulary and training sequences ---\n",
    "with open('PKL/vocabs/vocab.pkl', 'wb') as f:\n",
    "    pickle.dump(vocab, f)\n",
    "\n",
    "with open('PKL/q files/train_question_sequences.pkl', 'wb') as f:\n",
    "    pickle.dump(question_sequences, f)\n",
    "\n",
    "print(f\"Training data processed: {len(question_sequences)} questions\")\n",
    "print(f\"Vocabulary size (including special tokens): {len(vocab)}\")\n"
   ],
   "id": "916944c532f7e71e"
  },
  {
   "metadata": {
    "ExecuteTime": {
     "end_time": "2025-05-16T14:06:24.696532Z",
     "start_time": "2025-05-16T14:06:18.931960Z"
    }
   },
   "cell_type": "code",
   "source": [
    "'''PREPROCESSING VALIDATION DATASET OF QUESTIONS'''\n",
    "import nltk\n",
    "import json\n",
    "import pickle\n",
    "\n",
    "nltk.download('punkt')\n",
    "\n",
    "# --- Load validation questions ---\n",
    "with open(r'D:\\Projects\\asfdgfhjghk\\dataset\\v2_Questions_Val_mscoco\\v2_OpenEnded_mscoco_val2014_questions.json',\n",
    "          'r') as f:\n",
    "    val_qs = json.load(f)['questions']\n",
    "\n",
    "# --- Tokenize validation questions ---\n",
    "val_tokens = [[tok.lower() for tok in nltk.word_tokenize(q['question'])] for q in val_qs]\n",
    "\n",
    "# --- Load vocabulary saved from training ---\n",
    "with open('PKL/vocabs/vocab.pkl', 'rb') as f:\n",
    "    vocab = pickle.load(f)\n",
    "\n",
    "# --- Convert validation tokens to sequences and pad ---\n",
    "max_len = 14\n",
    "val_sequences = []\n",
    "for tokens in val_tokens:\n",
    "    seq = [vocab.get(token, vocab['<UNK>']) for token in tokens[:max_len]]\n",
    "    seq += [vocab['<PAD>']] * (max_len - len(seq))\n",
    "    val_sequences.append(seq)\n",
    "\n",
    "# --- Save validation sequences ---\n",
    "with open('PKL/q files/val_question_sequences.pkl', 'wb') as f:\n",
    "    pickle.dump(val_sequences, f)\n",
    "\n",
    "print(f\"Validation data processed: {len(val_sequences)} questions\")\n"
   ],
   "id": "8b39fa36aaf263ac",
   "outputs": [
    {
     "name": "stderr",
     "output_type": "stream",
     "text": [
      "[nltk_data] Downloading package punkt to\n",
      "[nltk_data]     C:\\Users\\anmol\\AppData\\Roaming\\nltk_data...\n",
      "[nltk_data]   Package punkt is already up-to-date!\n"
     ]
    },
    {
     "name": "stdout",
     "output_type": "stream",
     "text": [
      "Validation data processed: 214354 questions\n"
     ]
    }
   ],
   "execution_count": 3
  },
  {
   "metadata": {
    "ExecuteTime": {
     "end_time": "2025-05-16T13:50:19.418362Z",
     "start_time": "2025-05-16T13:50:19.325776Z"
    }
   },
   "cell_type": "code",
   "source": [
    "# Inspect Tokenized Questions\n",
    "import pickle\n",
    "\n",
    "# Load tokenized questions\n",
    "with open('PKL/q files/val_question_sequences.pkl', 'rb') as f:\n",
    "    tokenized_questions = pickle.load(f)\n",
    "\n",
    "# Print first 5 questions\n",
    "print(\"First 5 tokenized questions:\")\n",
    "for i, tokens in enumerate(tokenized_questions[:5], 1):\n",
    "    print(f\"Question: {tokens}\")"
   ],
   "id": "31aaf1463bda939f",
   "outputs": [
    {
     "name": "stdout",
     "output_type": "stream",
     "text": [
      "First 5 tokenized questions:\n",
      "Question: [24, 3, 48, 100, 1, 0, 0, 0, 0, 0, 0, 0, 0, 0]\n",
      "Question: [4, 5, 2, 17, 7, 2, 74, 33, 1, 0, 0, 0, 0, 0]\n",
      "Question: [4, 3, 48, 8, 96, 9, 1, 0, 0, 0, 0, 0, 0, 0]\n",
      "Question: [4, 1104, 3297, 2, 18, 1, 0, 0, 0, 0, 0, 0, 0, 0]\n",
      "Question: [3, 6, 10, 10001, 1196, 1, 0, 0, 0, 0, 0, 0, 0, 0]\n"
     ]
    }
   ],
   "execution_count": 1
  },
  {
   "metadata": {},
   "cell_type": "markdown",
   "source": "## Preprocessing of annotation dataset",
   "id": "722f535c7ec6bc47"
  },
  {
   "metadata": {
    "ExecuteTime": {
     "end_time": "2025-05-17T08:29:54.530107Z",
     "start_time": "2025-05-17T08:29:48.419035Z"
    }
   },
   "cell_type": "code",
   "source": [
    "'''PREPROCESSING TRAINING DATASET OF ANNOTATIONS'''\n",
    "import json\n",
    "import pickle\n",
    "from collections import Counter\n",
    "\n",
    "# Load answers\n",
    "with open(r'D:\\Projects\\asfdgfhjghk\\dataset\\v2_Annotations_Train_mscoco\\v2_mscoco_train2014_annotations.json',\n",
    "          'r') as f:\n",
    "    annotations = json.load(f)['annotations']\n",
    "\n",
    "# Get most common answer per question\n",
    "answers = []\n",
    "for ann in annotations:\n",
    "    ans_counts = Counter(a['answer'].lower() for a in ann['answers'])\n",
    "    most_common = ans_counts.most_common(1)[0][0]  # Pick the top answer\n",
    "    answers.append(most_common)\n",
    "\n",
    "# Build answer vocabulary (top 3,000)\n",
    "answer_vocab = {ans: idx for idx, (ans, _) in enumerate(Counter(answers).most_common(3000))}\n",
    "\n",
    "# Save answer vocabulary\n",
    "with open('PKL/vocabs/answer_vocab.pkl', 'wb') as f:\n",
    "    pickle.dump(answer_vocab, f)\n",
    "\n",
    "print(f\"Created answer vocabulary with {len(answer_vocab)} answers\")\n",
    "# Convert training answers to indices using the answer vocabulary\n",
    "train_answer_indices = [answer_vocab.get(ans, -1) for ans in answers]\n",
    "\n",
    "# Save training answer indices\n",
    "with open('PKL/val ans/train_answer_indices.pkl', 'wb') as f:\n",
    "    pickle.dump(train_answer_indices, f)\n",
    "\n",
    "print(f\"Saved {len(train_answer_indices)} training answer indices\")\n"
   ],
   "id": "37bdff5ccc01793e",
   "outputs": [
    {
     "name": "stdout",
     "output_type": "stream",
     "text": [
      "Created answer vocabulary with 3000 answers\n",
      "Saved 443757 training answer indices\n"
     ]
    }
   ],
   "execution_count": 12
  },
  {
   "metadata": {
    "ExecuteTime": {
     "end_time": "2025-05-16T14:06:33.196393Z",
     "start_time": "2025-05-16T14:06:30.717436Z"
    }
   },
   "cell_type": "code",
   "source": [
    "'''PREPROCESSING VALIDATION DATASET OF ANNOTATIONS'''\n",
    "\n",
    "import json\n",
    "import pickle\n",
    "from collections import Counter\n",
    "\n",
    "# Load validation annotations\n",
    "with open(r'D:\\Projects\\asfdgfhjghk\\dataset\\v2_Annotations_Val_mscoco\\v2_mscoco_val2014_annotations.json', 'r') as f:\n",
    "    val_annotations = json.load(f)['annotations']\n",
    "\n",
    "# Load answer vocabulary built from training\n",
    "with open('PKL/vocabs/answer_vocab.pkl', 'rb') as f:\n",
    "    answer_vocab = pickle.load(f)\n",
    "\n",
    "val_answers = []\n",
    "for ann in val_annotations:\n",
    "    ans_counts = Counter(a['answer'].lower() for a in ann['answers'])\n",
    "    most_common = ans_counts.most_common(1)[0][0]\n",
    "    val_answers.append(most_common)\n",
    "\n",
    "# Convert validation answers to indices (use -1 or some value for unknown answers)\n",
    "val_answer_indices = [answer_vocab.get(ans, -1) for ans in val_answers]\n",
    "\n",
    "# Save validation answer indices\n",
    "with open('PKL/val ans/val_answer_indices.pkl', 'wb') as f:\n",
    "    pickle.dump(val_answer_indices, f)\n",
    "\n",
    "print(f\"Processed {len(val_answer_indices)} validation answers\")"
   ],
   "id": "36a46023826f5530",
   "outputs": [
    {
     "name": "stdout",
     "output_type": "stream",
     "text": [
      "Processed 214354 validation answers\n"
     ]
    }
   ],
   "execution_count": 5
  },
  {
   "metadata": {},
   "cell_type": "markdown",
   "source": "## Preprocessing of image dataset",
   "id": "797f23a9e596bf57"
  },
  {
   "metadata": {
    "ExecuteTime": {
     "end_time": "2025-05-17T07:25:47.954701Z",
     "start_time": "2025-05-17T07:02:25.393769Z"
    }
   },
   "cell_type": "code",
   "source": [
    "import os\n",
    "import torch\n",
    "import torchvision.models as models\n",
    "import torchvision.transforms as transforms\n",
    "from PIL import Image\n",
    "import pickle\n",
    "import json\n",
    "from tqdm import tqdm\n",
    "import time\n",
    "\n",
    "# Set device\n",
    "device = torch.device(\"cuda\" if torch.cuda.is_available() else \"cpu\")\n",
    "print(f\"Using device: {device}\")\n",
    "\n",
    "# Load question data\n",
    "with open(r'D:\\Projects\\asfdgfhjghk\\dataset\\v2_Questions_Train_mscoco\\v2_OpenEnded_mscoco_train2014_questions.json',\n",
    "          'r') as f:\n",
    "    questions = json.load(f)['questions']\n",
    "\n",
    "# Get unique image IDs (as a list)\n",
    "image_ids = list({q['image_id'] for q in questions})\n",
    "\n",
    "# Define transformations\n",
    "transform = transforms.Compose([\n",
    "    transforms.Resize((224, 224)),\n",
    "    transforms.ToTensor(),\n",
    "    transforms.Normalize(mean=[0.485, 0.456, 0.406], std=[0.229, 0.224, 0.225])\n",
    "])\n",
    "\n",
    "# Load ResNet model (remove final classification layer)\n",
    "resnet = models.resnet50(pretrained=True).to(device)\n",
    "resnet.eval()\n",
    "resnet = torch.nn.Sequential(*list(resnet.children())[:-1])\n",
    "\n",
    "# Image directory\n",
    "image_dir = r'D:\\Projects\\asfdgfhjghk\\dataset\\train2014\\train2014'\n",
    "image_features = {}\n",
    "batch_size = 64\n",
    "\n",
    "# Verify directory\n",
    "if not os.path.exists(image_dir):\n",
    "    print(f\"Error: Directory not found: {image_dir}\")\n",
    "    exit(1)\n",
    "else:\n",
    "    print(f\"Directory found: {image_dir}\")\n",
    "    print(f\"Number of files: {len(os.listdir(image_dir))}\")\n",
    "\n",
    "# Process images in batches\n",
    "start_time = time.time()\n",
    "batch_images = []\n",
    "batch_image_ids = []\n",
    "\n",
    "for i, image_id in enumerate(tqdm(image_ids, desc=\"Processing train images\")):\n",
    "    image_filename = f\"COCO_train2014_{str(image_id).zfill(12)}.jpg\"\n",
    "    image_path = os.path.join(image_dir, image_filename)\n",
    "\n",
    "    if not os.path.exists(image_path):\n",
    "        print(f\"Image not found: {image_path}\")\n",
    "        continue\n",
    "\n",
    "    try:\n",
    "        image = Image.open(image_path).convert('RGB')\n",
    "        image = transform(image)\n",
    "        batch_images.append(image)\n",
    "        batch_image_ids.append(image_id)\n",
    "    except Exception as e:\n",
    "        print(f\"Error processing image {image_path}: {e}\")\n",
    "        continue\n",
    "\n",
    "    if len(batch_images) == batch_size or i == len(image_ids) - 1:\n",
    "        if batch_images:\n",
    "            try:\n",
    "                images = torch.stack(batch_images).to(device)\n",
    "                with torch.no_grad():\n",
    "                    features = resnet(images)\n",
    "                    features = features.squeeze(-1).squeeze(-1).cpu().numpy()\n",
    "                for img_id, feature in zip(batch_image_ids, features):\n",
    "                    image_features[img_id] = feature\n",
    "                del images, features\n",
    "                torch.cuda.empty_cache()\n",
    "            except RuntimeError as e:\n",
    "                print(f\"GPU error: {e}\")\n",
    "        batch_images = []\n",
    "        batch_image_ids = []\n",
    "\n",
    "# Save features\n",
    "with open('train_image_features.pkl', 'wb') as f:\n",
    "    pickle.dump(image_features, f)\n",
    "\n",
    "end_time = time.time()\n",
    "print(f\"Extracted features for {len(image_features)} train images\")\n",
    "print(f\"Total time: {end_time - start_time:.2f} seconds\")\n"
   ],
   "id": "27b4084131c99609",
   "outputs": [
    {
     "name": "stdout",
     "output_type": "stream",
     "text": [
      "Using device: cuda\n"
     ]
    },
    {
     "name": "stderr",
     "output_type": "stream",
     "text": [
      "D:\\Projects\\asfdgfhjghk\\.venv\\Lib\\site-packages\\torchvision\\models\\_utils.py:208: UserWarning: The parameter 'pretrained' is deprecated since 0.13 and may be removed in the future, please use 'weights' instead.\n",
      "  warnings.warn(\n",
      "D:\\Projects\\asfdgfhjghk\\.venv\\Lib\\site-packages\\torchvision\\models\\_utils.py:223: UserWarning: Arguments other than a weight enum or `None` for 'weights' are deprecated since 0.13 and may be removed in the future. The current behavior is equivalent to passing `weights=ResNet50_Weights.IMAGENET1K_V1`. You can also use `weights=ResNet50_Weights.DEFAULT` to get the most up-to-date weights.\n",
      "  warnings.warn(msg)\n"
     ]
    },
    {
     "name": "stdout",
     "output_type": "stream",
     "text": [
      "Directory found: D:\\Projects\\asfdgfhjghk\\dataset\\train2014\\train2014\n",
      "Number of files: 82783\n"
     ]
    },
    {
     "name": "stderr",
     "output_type": "stream",
     "text": [
      "Processing train images: 100%|██████████| 82783/82783 [22:56<00:00, 60.13it/s]  \n"
     ]
    },
    {
     "name": "stdout",
     "output_type": "stream",
     "text": [
      "Extracted features for 82783 train images\n",
      "Total time: 1377.78 seconds\n"
     ]
    }
   ],
   "execution_count": 1
  },
  {
   "metadata": {
    "ExecuteTime": {
     "end_time": "2025-05-17T07:36:20.128566Z",
     "start_time": "2025-05-17T07:25:48.028160Z"
    }
   },
   "cell_type": "code",
   "source": [
    "import os\n",
    "import torch\n",
    "import torchvision.models as models\n",
    "import torchvision.transforms as transforms\n",
    "from PIL import Image\n",
    "import pickle\n",
    "import json\n",
    "from tqdm import tqdm\n",
    "import time\n",
    "\n",
    "# Set device\n",
    "device = torch.device(\"cuda\" if torch.cuda.is_available() else \"cpu\")\n",
    "print(f\"Using device: {device}\")\n",
    "\n",
    "# Load question data\n",
    "with open(r'D:\\Projects\\asfdgfhjghk\\dataset\\v2_Questions_Val_mscoco\\v2_OpenEnded_mscoco_val2014_questions.json',\n",
    "          'r') as f:\n",
    "    questions = json.load(f)['questions']\n",
    "\n",
    "# Get unique image IDs (as a list)\n",
    "image_ids = list({q['image_id'] for q in questions})\n",
    "\n",
    "# Define transformations\n",
    "transform = transforms.Compose([\n",
    "    transforms.Resize((224, 224)),\n",
    "    transforms.ToTensor(),\n",
    "    transforms.Normalize(mean=[0.485, 0.456, 0.406], std=[0.229, 0.224, 0.225])\n",
    "])\n",
    "\n",
    "# Load ResNet model (remove final classification layer)\n",
    "resnet = models.resnet50(pretrained=True).to(device)\n",
    "resnet.eval()\n",
    "resnet = torch.nn.Sequential(*list(resnet.children())[:-1])\n",
    "\n",
    "# Image directory\n",
    "image_dir = r'D:\\Projects\\asfdgfhjghk\\dataset\\val2014\\val2014'\n",
    "image_features = {}\n",
    "batch_size = 64\n",
    "\n",
    "# Verify directory\n",
    "if not os.path.exists(image_dir):\n",
    "    print(f\"Error: Directory not found: {image_dir}\")\n",
    "    exit(1)\n",
    "else:\n",
    "    print(f\"Directory found: {image_dir}\")\n",
    "    print(f\"Number of files: {len(os.listdir(image_dir))}\")\n",
    "\n",
    "# Process images in batches\n",
    "start_time = time.time()\n",
    "batch_images = []\n",
    "batch_image_ids = []\n",
    "\n",
    "for i, image_id in enumerate(tqdm(image_ids, desc=\"Processing val images\")):\n",
    "    image_filename = f\"COCO_val2014_{str(image_id).zfill(12)}.jpg\"\n",
    "    image_path = os.path.join(image_dir, image_filename)\n",
    "\n",
    "    if not os.path.exists(image_path):\n",
    "        print(f\"Image not found: {image_path}\")\n",
    "        continue\n",
    "\n",
    "    try:\n",
    "        image = Image.open(image_path).convert('RGB')\n",
    "        image = transform(image)\n",
    "        batch_images.append(image)\n",
    "        batch_image_ids.append(image_id)\n",
    "    except Exception as e:\n",
    "        print(f\"Error processing image {image_path}: {e}\")\n",
    "        continue\n",
    "\n",
    "    if len(batch_images) == batch_size or i == len(image_ids) - 1:\n",
    "        if batch_images:\n",
    "            try:\n",
    "                images = torch.stack(batch_images).to(device)\n",
    "                with torch.no_grad():\n",
    "                    features = resnet(images)\n",
    "                    features = features.squeeze(-1).squeeze(-1).cpu().numpy()\n",
    "                for img_id, feature in zip(batch_image_ids, features):\n",
    "                    image_features[img_id] = feature\n",
    "                del images, features\n",
    "                torch.cuda.empty_cache()\n",
    "            except RuntimeError as e:\n",
    "                print(f\"GPU error: {e}\")\n",
    "        batch_images = []\n",
    "        batch_image_ids = []\n",
    "\n",
    "# Save features\n",
    "with open('val_image_features.pkl', 'wb') as f:\n",
    "    pickle.dump(image_features, f)\n",
    "\n",
    "end_time = time.time()\n",
    "print(f\"Extracted features for {len(image_features)} val images\")\n",
    "print(f\"Total time: {end_time - start_time:.2f} seconds\")\n"
   ],
   "id": "e3afe333d42b97b2",
   "outputs": [
    {
     "name": "stdout",
     "output_type": "stream",
     "text": [
      "Using device: cuda\n",
      "Directory found: D:\\Projects\\asfdgfhjghk\\dataset\\val2014\\val2014\n",
      "Number of files: 40504\n"
     ]
    },
    {
     "name": "stderr",
     "output_type": "stream",
     "text": [
      "Processing val images: 100%|██████████| 40504/40504 [10:30<00:00, 64.22it/s]\n"
     ]
    },
    {
     "name": "stdout",
     "output_type": "stream",
     "text": [
      "Extracted features for 40504 val images\n",
      "Total time: 631.07 seconds\n"
     ]
    }
   ],
   "execution_count": 2
  },
  {
   "metadata": {
    "ExecuteTime": {
     "end_time": "2025-05-17T12:31:56.111970Z",
     "start_time": "2025-05-17T12:31:56.082398Z"
    }
   },
   "cell_type": "code",
   "source": [
    "import torch\n",
    "import torch.nn as nn\n",
    "import torch.optim as optim\n",
    "from torch.utils.data import Dataset, DataLoader\n",
    "import json\n",
    "import pickle\n",
    "from tqdm import tqdm\n",
    "\n",
    "# --- Dataset ---\n",
    "class InMemoryVQADataset(Dataset):\n",
    "    def __init__(self, meta, seqs, ans, feats):\n",
    "        self.samples = []\n",
    "        for i, q in enumerate(meta):\n",
    "            img_id = q['image_id']\n",
    "            label = ans[i]\n",
    "            if label < 0 or img_id not in feats:\n",
    "                continue\n",
    "            feat_tensor = torch.tensor(feats[img_id], dtype=torch.float32)\n",
    "            seq_tensor = torch.tensor(seqs[i], dtype=torch.long)\n",
    "            lbl_tensor = torch.tensor(label, dtype=torch.long)\n",
    "            self.samples.append((feat_tensor, seq_tensor, lbl_tensor))\n",
    "\n",
    "    def __len__(self):\n",
    "        return len(self.samples)\n",
    "\n",
    "    def __getitem__(self, idx):\n",
    "        return self.samples[idx]"
   ],
   "id": "4dd7a590a28f8801",
   "outputs": [],
   "execution_count": 33
  },
  {
   "metadata": {
    "ExecuteTime": {
     "end_time": "2025-05-17T12:32:25.563459Z",
     "start_time": "2025-05-17T12:31:56.350743Z"
    }
   },
   "cell_type": "code",
   "source": [
    "paths = {\n",
    "    'train_json': r'D:\\Projects\\asfdgfhjghk\\dataset\\v2_Questions_Train_mscoco\\v2_OpenEnded_mscoco_train2014_questions.json',\n",
    "    'train_seq': r'D:\\Projects\\asfdgfhjghk\\PKL\\q files\\train_question_sequences.pkl',\n",
    "    'train_ans': r'D:\\Projects\\asfdgfhjghk\\PKL\\val ans\\train_answer_indices.pkl',\n",
    "    'train_img': r'D:\\Projects\\asfdgfhjghk\\train_image_features.pkl',\n",
    "    'val_json': r'D:\\Projects\\asfdgfhjghk\\dataset\\v2_Questions_Val_mscoco\\v2_OpenEnded_mscoco_val2014_questions.json',\n",
    "    'val_seq': r'D:\\Projects\\asfdgfhjghk\\PKL\\q files\\val_question_sequences.pkl',\n",
    "    'val_ans': r'D:\\Projects\\asfdgfhjghk\\PKL\\val ans\\val_answer_indices.pkl',\n",
    "    'val_img': r'D:\\Projects\\asfdgfhjghk\\val_image_features.pkl',\n",
    "}\n",
    "\n",
    "# Load training data\n",
    "with open(paths['train_json'], 'r') as f:\n",
    "    train_meta = json.load(f)['questions']\n",
    "train_seqs = pickle.load(open(paths['train_seq'], 'rb'))\n",
    "train_ans = pickle.load(open(paths['train_ans'], 'rb'))\n",
    "train_feats = pickle.load(open(paths['train_img'], 'rb'))\n",
    "\n",
    "# Load validation data\n",
    "with open(paths['val_json'], 'r') as f:\n",
    "    val_meta = json.load(f)['questions']\n",
    "val_seqs = pickle.load(open(paths['val_seq'], 'rb'))\n",
    "val_ans = pickle.load(open(paths['val_ans'], 'rb'))\n",
    "val_feats = pickle.load(open(paths['val_img'], 'rb'))\n",
    "\n",
    "# Create datasets and dataloaders\n",
    "train_ds = InMemoryVQADataset(train_meta, train_seqs, train_ans, train_feats)\n",
    "val_ds = InMemoryVQADataset(val_meta, val_seqs, val_ans, val_feats)\n",
    "\n",
    "train_loader = DataLoader(train_ds, batch_size=64, shuffle=True, num_workers=0, pin_memory=True)\n",
    "val_loader = DataLoader(val_ds, batch_size=64, shuffle=False, num_workers=0, pin_memory=True)\n",
    "\n",
    "print(f\"Train samples: {len(train_ds)}\")\n",
    "print(f\"Val samples: {len(val_ds)}\")\n"
   ],
   "id": "4f21d2febb2409c1",
   "outputs": [
    {
     "name": "stdout",
     "output_type": "stream",
     "text": [
      "Train samples: 412840\n",
      "Val samples: 197882\n"
     ]
    }
   ],
   "execution_count": 34
  },
  {
   "metadata": {
    "ExecuteTime": {
     "end_time": "2025-05-17T12:32:25.969086Z",
     "start_time": "2025-05-17T12:32:25.949350Z"
    }
   },
   "cell_type": "code",
   "source": [
    "class ImprovedVQAModel(nn.Module):\n",
    "    def __init__(self, vocab_size, embed_size, hidden_size, img_feat_size, num_classes,\n",
    "                 lstm_layers=2, num_heads=8, dropout=0.3):\n",
    "        super().__init__()\n",
    "\n",
    "        # Text Encoder\n",
    "        self.embed = nn.Embedding(vocab_size, embed_size, padding_idx=0)\n",
    "        self.lstm = nn.LSTM(embed_size, hidden_size,\n",
    "                           num_layers=lstm_layers,\n",
    "                           bidirectional=True,\n",
    "                           batch_first=True,\n",
    "                           dropout=dropout)\n",
    "\n",
    "        # Image Encoder\n",
    "        self.img_encoder = nn.Sequential(\n",
    "            nn.Linear(img_feat_size, hidden_size*2),\n",
    "            nn.ReLU(),\n",
    "            nn.LayerNorm(hidden_size*2),\n",
    "            nn.Dropout(dropout)\n",
    "        )\n",
    "\n",
    "        # Attention\n",
    "        self.cross_attn = nn.MultiheadAttention(\n",
    "            embed_dim=hidden_size*2,  # Fixed dimension\n",
    "            num_heads=num_heads,\n",
    "            dropout=dropout,\n",
    "            batch_first=True\n",
    "        )\n",
    "\n",
    "        # Classifier\n",
    "        self.classifier = nn.Sequential(\n",
    "            nn.Linear(hidden_size*4, hidden_size*2),  # Fixed input dimension\n",
    "            nn.ReLU(),\n",
    "            nn.Dropout(dropout),\n",
    "            nn.Linear(hidden_size*2, num_classes)\n",
    "        )\n",
    "\n",
    "    def forward(self, img, ques):\n",
    "        # Text\n",
    "        emb = self.embed(ques)\n",
    "        lstm_out, _ = self.lstm(emb)\n",
    "\n",
    "        # Image\n",
    "        img_feat = self.img_encoder(img).unsqueeze(1)  # [batch, 1, hidden_size*2]\n",
    "\n",
    "        # Cross Attention\n",
    "        attn_out, _ = self.cross_attn(\n",
    "            query=img_feat,\n",
    "            key=lstm_out,\n",
    "            value=lstm_out\n",
    "        )\n",
    "\n",
    "        # Combine features\n",
    "        text_pool = lstm_out.mean(dim=1)  # [batch, hidden_size*2]\n",
    "        img_pool = attn_out.squeeze(1)    # [batch, hidden_size*2]\n",
    "        combined = torch.cat([text_pool, img_pool], dim=1)  # [batch, hidden_size*4]\n",
    "\n",
    "        return self.classifier(combined)"
   ],
   "id": "7f2e0656024170a1",
   "outputs": [],
   "execution_count": 35
  },
  {
   "metadata": {
    "ExecuteTime": {
     "end_time": "2025-05-17T13:41:56.369292Z",
     "start_time": "2025-05-17T13:05:28.989696Z"
    }
   },
   "cell_type": "code",
   "source": [
    "device = torch.device('cuda' if torch.cuda.is_available() else 'cpu')\n",
    "\n",
    "class EarlyStopping:\n",
    "    def __init__(self, patience=3, min_delta=0.0):\n",
    "        self.patience = patience\n",
    "        self.min_delta = min_delta\n",
    "        self.best_loss = float('inf')\n",
    "        self.counter = 0\n",
    "        self.early_stop = False\n",
    "\n",
    "    def __call__(self, val_loss, model, epoch):\n",
    "        if val_loss < self.best_loss - self.min_delta:\n",
    "            self.best_loss = val_loss\n",
    "            self.counter = 0\n",
    "            # Save best model\n",
    "            torch.save(model.state_dict(), 'vqa_model_best.pth')\n",
    "        else:\n",
    "            self.counter += 1\n",
    "            if self.counter >= self.patience:\n",
    "                self.early_stop = True\n",
    "                print(f\"Early stopping triggered at epoch {epoch + 1}\")\n",
    "\n",
    "# --- Training Setup ---\n",
    "print(f\"Using device: {device}\")\n",
    "vocab_size = 10000\n",
    "num_answers = 3000\n",
    "model = ImprovedVQAModel(\n",
    "    vocab_size=10000,\n",
    "    embed_size=300,\n",
    "    hidden_size=512,\n",
    "    img_feat_size=2048,  # Typical size for ResNet features\n",
    "    num_classes=3129,    # Common VQA answer space size\n",
    "    lstm_layers=2,\n",
    "    num_heads=8,\n",
    "    dropout=0.3,\n",
    ").to(device)\n",
    "\n",
    "criterion = nn.CrossEntropyLoss()\n",
    "optimizer = optim.AdamW(model.parameters(), lr=3e-4, weight_decay=5e-4)\n",
    "scheduler = torch.optim.lr_scheduler.StepLR(optimizer, step_size=3, gamma=0.5)\n",
    "early_stopping = EarlyStopping(patience=3, min_delta=0.001)\n",
    "\n",
    "# --- Training Loop ---\n",
    "epochs = 100\n",
    "for epoch in range(epochs):\n",
    "    model.train()\n",
    "    running_loss = 0\n",
    "    correct = 0\n",
    "    total = 0\n",
    "    for img_feats, questions, labels in tqdm(train_loader, desc=f\"Epoch {epoch + 1}/{epochs}\"):\n",
    "        img_feats, questions, labels = img_feats.to(device), questions.to(device), labels.to(device)\n",
    "        optimizer.zero_grad()\n",
    "        outputs = model(img_feats, questions)\n",
    "        loss = criterion(outputs, labels)\n",
    "        loss.backward()\n",
    "        optimizer.step()\n",
    "        running_loss += loss.item() * img_feats.size(0)\n",
    "        preds = outputs.argmax(dim=1)\n",
    "        correct += (preds == labels).sum().item()\n",
    "        total += labels.size(0)\n",
    "    scheduler.step()\n",
    "    train_loss = running_loss / total\n",
    "    train_acc = correct / total\n",
    "    print(f\"Train Loss: {train_loss:.4f}, Train Acc: {train_acc:.4f}\")\n",
    "\n",
    "    model.eval()\n",
    "    val_loss = 0\n",
    "    val_correct = 0\n",
    "    val_total = 0\n",
    "    with torch.no_grad():\n",
    "        for img_feats, questions, labels in val_loader:\n",
    "            img_feats, questions, labels = img_feats.to(device), questions.to(device), labels.to(device)\n",
    "            outputs = model(img_feats, questions)\n",
    "            loss = criterion(outputs, labels)\n",
    "            val_loss += loss.item() * img_feats.size(0)\n",
    "            preds = outputs.argmax(dim=1)\n",
    "            val_correct += (preds == labels).sum().item()\n",
    "            val_total += labels.size(0)\n",
    "    val_loss = val_loss / val_total\n",
    "    val_acc = val_correct / val_total\n",
    "    print(f\"Val Loss: {val_loss:.4f}, Val Acc: {val_acc:.4f}\")\n",
    "\n",
    "    # Save checkpoint\n",
    "    torch.save(model.state_dict(), f'vqa_model_epoch_{epoch+1}.pth')\n",
    "\n",
    "    # Early stopping\n",
    "    early_stopping(val_loss, model, epoch)\n",
    "    if early_stopping.early_stop:\n",
    "        print(\"Loading best model from early stopping\")\n",
    "        model.load_state_dict(torch.load('vqa_model_best.pth'))\n",
    "        break"
   ],
   "id": "aca7d5456343830c",
   "outputs": [
    {
     "name": "stdout",
     "output_type": "stream",
     "text": [
      "Using device: cuda\n"
     ]
    },
    {
     "name": "stderr",
     "output_type": "stream",
     "text": [
      "Epoch 1/100: 100%|██████████| 6451/6451 [03:47<00:00, 28.36it/s]\n"
     ]
    },
    {
     "name": "stdout",
     "output_type": "stream",
     "text": [
      "Train Loss: 2.8670, Train Acc: 0.2989\n",
      "Val Loss: 2.3815, Val Acc: 0.3400\n"
     ]
    },
    {
     "name": "stderr",
     "output_type": "stream",
     "text": [
      "Epoch 2/100: 100%|██████████| 6451/6451 [03:45<00:00, 28.63it/s]\n"
     ]
    },
    {
     "name": "stdout",
     "output_type": "stream",
     "text": [
      "Train Loss: 2.2494, Train Acc: 0.3517\n",
      "Val Loss: 2.1278, Val Acc: 0.3748\n"
     ]
    },
    {
     "name": "stderr",
     "output_type": "stream",
     "text": [
      "Epoch 3/100: 100%|██████████| 6451/6451 [03:39<00:00, 29.43it/s]\n"
     ]
    },
    {
     "name": "stdout",
     "output_type": "stream",
     "text": [
      "Train Loss: 2.0243, Train Acc: 0.3780\n",
      "Val Loss: 2.0226, Val Acc: 0.3916\n"
     ]
    },
    {
     "name": "stderr",
     "output_type": "stream",
     "text": [
      "Epoch 4/100: 100%|██████████| 6451/6451 [03:36<00:00, 29.77it/s]\n"
     ]
    },
    {
     "name": "stdout",
     "output_type": "stream",
     "text": [
      "Train Loss: 1.8524, Train Acc: 0.4024\n",
      "Val Loss: 1.9628, Val Acc: 0.4054\n"
     ]
    },
    {
     "name": "stderr",
     "output_type": "stream",
     "text": [
      "Epoch 5/100: 100%|██████████| 6451/6451 [03:35<00:00, 29.87it/s]\n"
     ]
    },
    {
     "name": "stdout",
     "output_type": "stream",
     "text": [
      "Train Loss: 1.7700, Train Acc: 0.4152\n",
      "Val Loss: 1.9521, Val Acc: 0.4110\n"
     ]
    },
    {
     "name": "stderr",
     "output_type": "stream",
     "text": [
      "Epoch 6/100: 100%|██████████| 6451/6451 [03:36<00:00, 29.80it/s]\n"
     ]
    },
    {
     "name": "stdout",
     "output_type": "stream",
     "text": [
      "Train Loss: 1.7079, Train Acc: 0.4267\n",
      "Val Loss: 1.9474, Val Acc: 0.4146\n"
     ]
    },
    {
     "name": "stderr",
     "output_type": "stream",
     "text": [
      "Epoch 7/100: 100%|██████████| 6451/6451 [03:35<00:00, 29.87it/s]\n"
     ]
    },
    {
     "name": "stdout",
     "output_type": "stream",
     "text": [
      "Train Loss: 1.6144, Train Acc: 0.4451\n",
      "Val Loss: 1.9735, Val Acc: 0.4225\n"
     ]
    },
    {
     "name": "stderr",
     "output_type": "stream",
     "text": [
      "Epoch 8/100: 100%|██████████| 6451/6451 [03:35<00:00, 29.94it/s]\n"
     ]
    },
    {
     "name": "stdout",
     "output_type": "stream",
     "text": [
      "Train Loss: 1.5697, Train Acc: 0.4546\n",
      "Val Loss: 1.9821, Val Acc: 0.4241\n"
     ]
    },
    {
     "name": "stderr",
     "output_type": "stream",
     "text": [
      "Epoch 9/100: 100%|██████████| 6451/6451 [03:35<00:00, 29.92it/s]\n"
     ]
    },
    {
     "name": "stdout",
     "output_type": "stream",
     "text": [
      "Train Loss: 1.5332, Train Acc: 0.4630\n",
      "Val Loss: 2.0121, Val Acc: 0.4263\n",
      "Early stopping triggered at epoch 9\n",
      "Loading best model from early stopping\n"
     ]
    }
   ],
   "execution_count": 37
  },
  {
   "metadata": {
    "ExecuteTime": {
     "end_time": "2025-05-17T12:28:49.773856Z",
     "start_time": "2025-05-17T12:28:45.282372Z"
    }
   },
   "cell_type": "code",
   "source": [
    "import pickle\n",
    "with open(r'D:\\Projects\\asfdgfhjghk\\PKL\\vocabs\\answer_vocab.pkl', 'rb') as f:\n",
    "    answer_vocab = pickle.load(f)\n",
    "print(f\"Number of answers: {len(answer_vocab)}\")\n",
    "print(f\"Sample answers: {list(answer_vocab.items())[:5]}\")\n",
    "# Check answer distribution in annotations\n",
    "import json\n",
    "from collections import Counter\n",
    "with open(r'D:\\Projects\\asfdgfhjghk\\dataset\\v2_Annotations_Train_mscoco\\v2_mscoco_train2014_annotations.json', 'r') as f:\n",
    "    annotations = json.load(f)['annotations']\n",
    "answers = [Counter(a['answer'].lower() for a in ann['answers']).most_common(1)[0][0] for ann in annotations[:10000]]\n",
    "print(f\"Top 5 answers in data: {Counter(answers).most_common(5)}\")"
   ],
   "id": "ee38d6ad10244aa3",
   "outputs": [
    {
     "name": "stdout",
     "output_type": "stream",
     "text": [
      "Number of answers: 3000\n",
      "Sample answers: [('no', 0), ('yes', 1), ('2', 2), ('1', 3), ('white', 4)]\n",
      "Top 5 answers in data: [('yes', 1890), ('no', 1804), ('1', 280), ('2', 245), ('white', 189)]\n"
     ]
    }
   ],
   "execution_count": 31
  }
 ],
 "metadata": {
  "kernelspec": {
   "display_name": "Python 3",
   "language": "python",
   "name": "python3"
  },
  "language_info": {
   "codemirror_mode": {
    "name": "ipython",
    "version": 2
   },
   "file_extension": ".py",
   "mimetype": "text/x-python",
   "name": "python",
   "nbconvert_exporter": "python",
   "pygments_lexer": "ipython2",
   "version": "2.7.6"
  }
 },
 "nbformat": 4,
 "nbformat_minor": 5
}
